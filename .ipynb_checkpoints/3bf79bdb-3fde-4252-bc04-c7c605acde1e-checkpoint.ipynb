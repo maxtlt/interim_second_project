{
 "cells": [
  {
   "cell_type": "markdown",
   "metadata": {},
   "source": [
    "<div style=\"border:solid Chocolate 2px; padding: 40px\">\n",
    "Максим, привет, меня зовут Станислав, и я буду проверять твой проект. Предлагаю общаться на «ты», но если это неудобно - дай знать, и мы перейдем на «вы».\n",
    "Это учебный проект и здесь не стоит бояться делать ошибки, я хочу поделиться своим опытом и помочь тебе стать аналитиком данных.\n",
    "Уже выполнена большая работа над проектом, давай сделаем его еще лучше. Ниже ты найдешь мои комментарии - пожалуйста, не перемещай, не изменяй и не удаляй их. Я буду использовать цветовую разметку:\n",
    "\n",
    "<div class=\"alert alert-danger\">\n",
    "<b>Комментарий с замечанием ревьюера:</b> Так выделены самые важные замечания. Как только ты их исправишь проект будет принят. </div>\n",
    "\n",
    "<div class=\"alert alert-warning\">\n",
    "<b>Комментарий с небольшим замечанием или советом ревьюера:</b> Так выделены небольшие замечания или советы. \n",
    "</div>\n",
    "\n",
    "<div class=\"alert alert-success\">\n",
    "<b>Комментарий с комплиментом ревьюера:</b> Так я выделяю все остальные комментарии.</div>\n",
    "\n",
    "Давай работать над проектом в диалоге: если ты что-то меняешь в проекте или отвечаешь на мои комментарии — пиши об этом.\n",
    "Мне будет легче отследить изменения, если ты выделишь свои комментарии:\n",
    "<div class=\"alert alert-info\"> <b>Комментарий студента:</b> Например, вот так.</div>\n",
    "\n",
    "Всё это поможет выполнить повторную проверку твоего проекта оперативнее.\n",
    "</div>\n"
   ]
  },
  {
   "cell_type": "markdown",
   "metadata": {},
   "source": [
    "<div style=\"border:solid Chocolate 2px; padding: 40px\">\n",
    "\n",
    "# Общий вывод ревьюера по проекту\n",
    "\n",
    "<div class=\"alert alert-success\">\n",
    "\n",
    "Проделана хорошая аналитическая работа. Код написан чисто, соблюдена структура проекта и написаны качественные аналитические выводы. Проект выполнен на хорошем аналитическом уровне, поэтому замечаний не много. Я отметил в проекте моменты, на которые необходимо обратить внимание, исправь их и проект будет принят.\n",
    "\n",
    "- по ссылкам ниже ты найдешь интересные материалы по А/В тестам\n",
    "  \n",
    "    \n",
    "https://habr.com/ru/company/avito/blog/571094/\n",
    "\n",
    "https://habr.com/ru/company/yandex/blog/476826/\n",
    "\n",
    "https://academy.yandex.ru/journal/kak-provesti-a-b-testirovanie-6-prostykh-shagov\n",
    "\n",
    "https://habr.com/ru/company/yandex/blog/342704/\n",
    "\n",
    "https://r-analytics.blogspot.com/2013/10/blog-post_13.html \n",
    "\n",
    "</div>\n",
    "\n",
    "<div class=\"alert alert-danger\">\n",
    "\n",
    "\n",
    "- проанализируй и используй, пожалуйста, поправку на множественную проверку гипотез   \n",
    "\n",
    "</div>\n",
    "</div>\n",
    "\n",
    "\n",
    "\n",
    "\n"
   ]
  },
  {
   "cell_type": "markdown",
   "metadata": {},
   "source": [
    "<div style=\"border:solid Chocolate 2px; padding: 40px\">\n",
    "\n",
    "# Общий вывод ревьюера по проекту в2\n",
    "\n",
    "<div class=\"alert alert-success\">\n",
    "\n",
    "Отлично, спасибо за доработку проекта, желаю успеха в следующих проектах!"
   ]
  },
  {
   "cell_type": "markdown",
   "metadata": {},
   "source": [
    "<h1>Анализ пользовательского поведения в мобильном приложении</h1>"
   ]
  },
  {
   "cell_type": "markdown",
   "metadata": {},
   "source": [
    "<h2>Краткое описание проекта</h2>"
   ]
  },
  {
   "cell_type": "markdown",
   "metadata": {},
   "source": [
    "Необходимо разобраться как ведут себя пользователи мобильного приложения онлайн-магазина продуктов питания."
   ]
  },
  {
   "cell_type": "markdown",
   "metadata": {},
   "source": [
    "<h2>Цель проекта</h2>"
   ]
  },
  {
   "cell_type": "markdown",
   "metadata": {},
   "source": [
    "Необходимо проанализировать поведение покупателей на основании логов пользователей и результатов А/А/В - эксперимента (изменение шрифта во всем приложении)."
   ]
  },
  {
   "cell_type": "markdown",
   "metadata": {},
   "source": [
    "<h2>План работы</h2>"
   ]
  },
  {
   "cell_type": "markdown",
   "metadata": {},
   "source": [
    "* подготовка данных;\n",
    "* изучение и проверка данных;\n",
    "* изучение воронки событий;\n",
    "* изучение результатов эксперимента;\n",
    "* составление выодов."
   ]
  },
  {
   "cell_type": "markdown",
   "metadata": {},
   "source": [
    "<div class=\"alert alert-success\">\n",
    "<b>Комментарий с комплиментом ревьюера:</b> \n",
    "    \n",
    "Здорово, что выделено содержание, описана цель. 👍\n",
    "    \n"
   ]
  },
  {
   "cell_type": "markdown",
   "metadata": {},
   "source": [
    "<h3>Откроем датасет и изучим общую информацию</h3>"
   ]
  },
  {
   "cell_type": "markdown",
   "metadata": {},
   "source": [
    "Импортируем необходимые библиотеки"
   ]
  },
  {
   "cell_type": "code",
   "execution_count": 120,
   "metadata": {},
   "outputs": [],
   "source": [
    "import pandas as pd\n",
    "import numpy as np\n",
    "import math as mth\n",
    "import matplotlib.pyplot as plt\n",
    "from collections import Counter\n",
    "from scipy import stats as st\n",
    "import seaborn as sns\n",
    "import plotly.express as px\n",
    "from plotly import graph_objects as go"
   ]
  },
  {
   "cell_type": "markdown",
   "metadata": {},
   "source": [
    "Сформируем датасет"
   ]
  },
  {
   "cell_type": "code",
   "execution_count": 121,
   "metadata": {},
   "outputs": [
    {
     "data": {
      "text/html": [
       "<div>\n",
       "<style scoped>\n",
       "    .dataframe tbody tr th:only-of-type {\n",
       "        vertical-align: middle;\n",
       "    }\n",
       "\n",
       "    .dataframe tbody tr th {\n",
       "        vertical-align: top;\n",
       "    }\n",
       "\n",
       "    .dataframe thead th {\n",
       "        text-align: right;\n",
       "    }\n",
       "</style>\n",
       "<table border=\"1\" class=\"dataframe\">\n",
       "  <thead>\n",
       "    <tr style=\"text-align: right;\">\n",
       "      <th></th>\n",
       "      <th>EventName</th>\n",
       "      <th>DeviceIDHash</th>\n",
       "      <th>EventTimestamp</th>\n",
       "      <th>ExpId</th>\n",
       "    </tr>\n",
       "  </thead>\n",
       "  <tbody>\n",
       "    <tr>\n",
       "      <th>0</th>\n",
       "      <td>MainScreenAppear</td>\n",
       "      <td>4575588528974610257</td>\n",
       "      <td>1564029816</td>\n",
       "      <td>246</td>\n",
       "    </tr>\n",
       "    <tr>\n",
       "      <th>1</th>\n",
       "      <td>MainScreenAppear</td>\n",
       "      <td>7416695313311560658</td>\n",
       "      <td>1564053102</td>\n",
       "      <td>246</td>\n",
       "    </tr>\n",
       "    <tr>\n",
       "      <th>2</th>\n",
       "      <td>PaymentScreenSuccessful</td>\n",
       "      <td>3518123091307005509</td>\n",
       "      <td>1564054127</td>\n",
       "      <td>248</td>\n",
       "    </tr>\n",
       "    <tr>\n",
       "      <th>3</th>\n",
       "      <td>CartScreenAppear</td>\n",
       "      <td>3518123091307005509</td>\n",
       "      <td>1564054127</td>\n",
       "      <td>248</td>\n",
       "    </tr>\n",
       "    <tr>\n",
       "      <th>4</th>\n",
       "      <td>PaymentScreenSuccessful</td>\n",
       "      <td>6217807653094995999</td>\n",
       "      <td>1564055322</td>\n",
       "      <td>248</td>\n",
       "    </tr>\n",
       "    <tr>\n",
       "      <th>...</th>\n",
       "      <td>...</td>\n",
       "      <td>...</td>\n",
       "      <td>...</td>\n",
       "      <td>...</td>\n",
       "    </tr>\n",
       "    <tr>\n",
       "      <th>244121</th>\n",
       "      <td>MainScreenAppear</td>\n",
       "      <td>4599628364049201812</td>\n",
       "      <td>1565212345</td>\n",
       "      <td>247</td>\n",
       "    </tr>\n",
       "    <tr>\n",
       "      <th>244122</th>\n",
       "      <td>MainScreenAppear</td>\n",
       "      <td>5849806612437486590</td>\n",
       "      <td>1565212439</td>\n",
       "      <td>246</td>\n",
       "    </tr>\n",
       "    <tr>\n",
       "      <th>244123</th>\n",
       "      <td>MainScreenAppear</td>\n",
       "      <td>5746969938801999050</td>\n",
       "      <td>1565212483</td>\n",
       "      <td>246</td>\n",
       "    </tr>\n",
       "    <tr>\n",
       "      <th>244124</th>\n",
       "      <td>MainScreenAppear</td>\n",
       "      <td>5746969938801999050</td>\n",
       "      <td>1565212498</td>\n",
       "      <td>246</td>\n",
       "    </tr>\n",
       "    <tr>\n",
       "      <th>244125</th>\n",
       "      <td>OffersScreenAppear</td>\n",
       "      <td>5746969938801999050</td>\n",
       "      <td>1565212517</td>\n",
       "      <td>246</td>\n",
       "    </tr>\n",
       "  </tbody>\n",
       "</table>\n",
       "<p>244126 rows × 4 columns</p>\n",
       "</div>"
      ],
      "text/plain": [
       "                      EventName         DeviceIDHash  EventTimestamp  ExpId\n",
       "0              MainScreenAppear  4575588528974610257      1564029816    246\n",
       "1              MainScreenAppear  7416695313311560658      1564053102    246\n",
       "2       PaymentScreenSuccessful  3518123091307005509      1564054127    248\n",
       "3              CartScreenAppear  3518123091307005509      1564054127    248\n",
       "4       PaymentScreenSuccessful  6217807653094995999      1564055322    248\n",
       "...                         ...                  ...             ...    ...\n",
       "244121         MainScreenAppear  4599628364049201812      1565212345    247\n",
       "244122         MainScreenAppear  5849806612437486590      1565212439    246\n",
       "244123         MainScreenAppear  5746969938801999050      1565212483    246\n",
       "244124         MainScreenAppear  5746969938801999050      1565212498    246\n",
       "244125       OffersScreenAppear  5746969938801999050      1565212517    246\n",
       "\n",
       "[244126 rows x 4 columns]"
      ]
     },
     "execution_count": 121,
     "metadata": {},
     "output_type": "execute_result"
    }
   ],
   "source": [
    "df = pd.read_csv('/datasets/logs_exp.csv', sep='\\t')\n",
    "df"
   ]
  },
  {
   "cell_type": "markdown",
   "metadata": {},
   "source": [
    "Видим что столбец со временем события отображается в секундах. Тип данного столбца нуждается в преобразовании."
   ]
  },
  {
   "cell_type": "markdown",
   "metadata": {},
   "source": [
    "Посмотрим общую информацию"
   ]
  },
  {
   "cell_type": "code",
   "execution_count": 122,
   "metadata": {},
   "outputs": [
    {
     "name": "stdout",
     "output_type": "stream",
     "text": [
      "<class 'pandas.core.frame.DataFrame'>\n",
      "RangeIndex: 244126 entries, 0 to 244125\n",
      "Data columns (total 4 columns):\n",
      " #   Column          Non-Null Count   Dtype \n",
      "---  ------          --------------   ----- \n",
      " 0   EventName       244126 non-null  object\n",
      " 1   DeviceIDHash    244126 non-null  int64 \n",
      " 2   EventTimestamp  244126 non-null  int64 \n",
      " 3   ExpId           244126 non-null  int64 \n",
      "dtypes: int64(3), object(1)\n",
      "memory usage: 7.5+ MB\n"
     ]
    }
   ],
   "source": [
    "df.info()"
   ]
  },
  {
   "cell_type": "markdown",
   "metadata": {},
   "source": [
    "Проверим имеются ли в датасете пропущенные значения"
   ]
  },
  {
   "cell_type": "code",
   "execution_count": 123,
   "metadata": {},
   "outputs": [
    {
     "data": {
      "text/plain": [
       "EventName         0\n",
       "DeviceIDHash      0\n",
       "EventTimestamp    0\n",
       "ExpId             0\n",
       "dtype: int64"
      ]
     },
     "execution_count": 123,
     "metadata": {},
     "output_type": "execute_result"
    }
   ],
   "source": [
    "df.isna().sum()"
   ]
  },
  {
   "cell_type": "markdown",
   "metadata": {},
   "source": [
    "Затем проверим на дубликаты"
   ]
  },
  {
   "cell_type": "code",
   "execution_count": 124,
   "metadata": {},
   "outputs": [
    {
     "data": {
      "text/plain": [
       "413"
      ]
     },
     "metadata": {},
     "output_type": "display_data"
    }
   ],
   "source": [
    "display(df.duplicated().sum())"
   ]
  },
  {
   "cell_type": "markdown",
   "metadata": {},
   "source": [
    "Видим присутствие дубликатов. Необходимо от них избавиться."
   ]
  },
  {
   "cell_type": "markdown",
   "metadata": {},
   "source": [
    "<h3>Подготовим данные</h3>"
   ]
  },
  {
   "cell_type": "markdown",
   "metadata": {},
   "source": [
    "<div class=\"alert alert-info\"> <b>Посчитаем долю дубликатов</b></div>"
   ]
  },
  {
   "cell_type": "markdown",
   "metadata": {},
   "source": [
    "<div class=\"alert alert-success\">\n",
    "<b>Комментарий с комплиментом ревьюера в2:</b> \n",
    "    \n",
    "Отлично"
   ]
  },
  {
   "cell_type": "code",
   "execution_count": 125,
   "metadata": {},
   "outputs": [
    {
     "data": {
      "text/plain": [
       "0.0016917493425526163"
      ]
     },
     "execution_count": 125,
     "metadata": {},
     "output_type": "execute_result"
    }
   ],
   "source": [
    "df.duplicated().sum() / len(df)"
   ]
  },
  {
   "cell_type": "markdown",
   "metadata": {},
   "source": [
    "Для начала удалим дубликаты"
   ]
  },
  {
   "cell_type": "code",
   "execution_count": 126,
   "metadata": {},
   "outputs": [],
   "source": [
    "df = df.drop_duplicates().reset_index(drop=True)"
   ]
  },
  {
   "cell_type": "markdown",
   "metadata": {},
   "source": [
    "<div class=\"alert alert-warning\">\n",
    "<b>Комментарий с советом ревьюера:</b> \n",
    "    \n",
    "Для понимания того, какую часть составляют дубликаты и какой объем ты удаляешь, лучше дополнительно посчитать долю.\n",
    " </div>\n"
   ]
  },
  {
   "cell_type": "markdown",
   "metadata": {},
   "source": [
    "Затем переименуем столбцы приведя их к змеиному регистру"
   ]
  },
  {
   "cell_type": "code",
   "execution_count": 127,
   "metadata": {},
   "outputs": [],
   "source": [
    "df = df.rename(columns={'EventName': 'event_name', 'DeviceIDHash': 'device_id_hash', \n",
    "                            'EventTimestamp': 'event_timestamp', 'ExpId': 'exp_id'})"
   ]
  },
  {
   "cell_type": "markdown",
   "metadata": {},
   "source": [
    "Добавим столбец даты и времени, а также отдельный столбец дат"
   ]
  },
  {
   "cell_type": "code",
   "execution_count": 128,
   "metadata": {},
   "outputs": [],
   "source": [
    "df['event_timestamp'] = pd.to_datetime(df['event_timestamp'], unit='s')"
   ]
  },
  {
   "cell_type": "markdown",
   "metadata": {},
   "source": [
    "Добавим отдельное поле с датой"
   ]
  },
  {
   "cell_type": "code",
   "execution_count": 129,
   "metadata": {},
   "outputs": [],
   "source": [
    "df['date'] = pd.to_datetime(df['event_timestamp'].dt.date)"
   ]
  },
  {
   "cell_type": "code",
   "execution_count": 130,
   "metadata": {},
   "outputs": [
    {
     "data": {
      "text/html": [
       "<div>\n",
       "<style scoped>\n",
       "    .dataframe tbody tr th:only-of-type {\n",
       "        vertical-align: middle;\n",
       "    }\n",
       "\n",
       "    .dataframe tbody tr th {\n",
       "        vertical-align: top;\n",
       "    }\n",
       "\n",
       "    .dataframe thead th {\n",
       "        text-align: right;\n",
       "    }\n",
       "</style>\n",
       "<table border=\"1\" class=\"dataframe\">\n",
       "  <thead>\n",
       "    <tr style=\"text-align: right;\">\n",
       "      <th></th>\n",
       "      <th>event_name</th>\n",
       "      <th>device_id_hash</th>\n",
       "      <th>event_timestamp</th>\n",
       "      <th>exp_id</th>\n",
       "      <th>date</th>\n",
       "    </tr>\n",
       "  </thead>\n",
       "  <tbody>\n",
       "    <tr>\n",
       "      <th>0</th>\n",
       "      <td>MainScreenAppear</td>\n",
       "      <td>4575588528974610257</td>\n",
       "      <td>2019-07-25 04:43:36</td>\n",
       "      <td>246</td>\n",
       "      <td>2019-07-25</td>\n",
       "    </tr>\n",
       "    <tr>\n",
       "      <th>1</th>\n",
       "      <td>MainScreenAppear</td>\n",
       "      <td>7416695313311560658</td>\n",
       "      <td>2019-07-25 11:11:42</td>\n",
       "      <td>246</td>\n",
       "      <td>2019-07-25</td>\n",
       "    </tr>\n",
       "    <tr>\n",
       "      <th>2</th>\n",
       "      <td>PaymentScreenSuccessful</td>\n",
       "      <td>3518123091307005509</td>\n",
       "      <td>2019-07-25 11:28:47</td>\n",
       "      <td>248</td>\n",
       "      <td>2019-07-25</td>\n",
       "    </tr>\n",
       "    <tr>\n",
       "      <th>3</th>\n",
       "      <td>CartScreenAppear</td>\n",
       "      <td>3518123091307005509</td>\n",
       "      <td>2019-07-25 11:28:47</td>\n",
       "      <td>248</td>\n",
       "      <td>2019-07-25</td>\n",
       "    </tr>\n",
       "    <tr>\n",
       "      <th>4</th>\n",
       "      <td>PaymentScreenSuccessful</td>\n",
       "      <td>6217807653094995999</td>\n",
       "      <td>2019-07-25 11:48:42</td>\n",
       "      <td>248</td>\n",
       "      <td>2019-07-25</td>\n",
       "    </tr>\n",
       "    <tr>\n",
       "      <th>...</th>\n",
       "      <td>...</td>\n",
       "      <td>...</td>\n",
       "      <td>...</td>\n",
       "      <td>...</td>\n",
       "      <td>...</td>\n",
       "    </tr>\n",
       "    <tr>\n",
       "      <th>243708</th>\n",
       "      <td>MainScreenAppear</td>\n",
       "      <td>4599628364049201812</td>\n",
       "      <td>2019-08-07 21:12:25</td>\n",
       "      <td>247</td>\n",
       "      <td>2019-08-07</td>\n",
       "    </tr>\n",
       "    <tr>\n",
       "      <th>243709</th>\n",
       "      <td>MainScreenAppear</td>\n",
       "      <td>5849806612437486590</td>\n",
       "      <td>2019-08-07 21:13:59</td>\n",
       "      <td>246</td>\n",
       "      <td>2019-08-07</td>\n",
       "    </tr>\n",
       "    <tr>\n",
       "      <th>243710</th>\n",
       "      <td>MainScreenAppear</td>\n",
       "      <td>5746969938801999050</td>\n",
       "      <td>2019-08-07 21:14:43</td>\n",
       "      <td>246</td>\n",
       "      <td>2019-08-07</td>\n",
       "    </tr>\n",
       "    <tr>\n",
       "      <th>243711</th>\n",
       "      <td>MainScreenAppear</td>\n",
       "      <td>5746969938801999050</td>\n",
       "      <td>2019-08-07 21:14:58</td>\n",
       "      <td>246</td>\n",
       "      <td>2019-08-07</td>\n",
       "    </tr>\n",
       "    <tr>\n",
       "      <th>243712</th>\n",
       "      <td>OffersScreenAppear</td>\n",
       "      <td>5746969938801999050</td>\n",
       "      <td>2019-08-07 21:15:17</td>\n",
       "      <td>246</td>\n",
       "      <td>2019-08-07</td>\n",
       "    </tr>\n",
       "  </tbody>\n",
       "</table>\n",
       "<p>243713 rows × 5 columns</p>\n",
       "</div>"
      ],
      "text/plain": [
       "                     event_name       device_id_hash     event_timestamp  \\\n",
       "0              MainScreenAppear  4575588528974610257 2019-07-25 04:43:36   \n",
       "1              MainScreenAppear  7416695313311560658 2019-07-25 11:11:42   \n",
       "2       PaymentScreenSuccessful  3518123091307005509 2019-07-25 11:28:47   \n",
       "3              CartScreenAppear  3518123091307005509 2019-07-25 11:28:47   \n",
       "4       PaymentScreenSuccessful  6217807653094995999 2019-07-25 11:48:42   \n",
       "...                         ...                  ...                 ...   \n",
       "243708         MainScreenAppear  4599628364049201812 2019-08-07 21:12:25   \n",
       "243709         MainScreenAppear  5849806612437486590 2019-08-07 21:13:59   \n",
       "243710         MainScreenAppear  5746969938801999050 2019-08-07 21:14:43   \n",
       "243711         MainScreenAppear  5746969938801999050 2019-08-07 21:14:58   \n",
       "243712       OffersScreenAppear  5746969938801999050 2019-08-07 21:15:17   \n",
       "\n",
       "        exp_id       date  \n",
       "0          246 2019-07-25  \n",
       "1          246 2019-07-25  \n",
       "2          248 2019-07-25  \n",
       "3          248 2019-07-25  \n",
       "4          248 2019-07-25  \n",
       "...        ...        ...  \n",
       "243708     247 2019-08-07  \n",
       "243709     246 2019-08-07  \n",
       "243710     246 2019-08-07  \n",
       "243711     246 2019-08-07  \n",
       "243712     246 2019-08-07  \n",
       "\n",
       "[243713 rows x 5 columns]"
      ]
     },
     "execution_count": 130,
     "metadata": {},
     "output_type": "execute_result"
    }
   ],
   "source": [
    "df"
   ]
  },
  {
   "cell_type": "markdown",
   "metadata": {},
   "source": [
    "Проверим имеются ли пересечения пользователей в группах. "
   ]
  },
  {
   "cell_type": "code",
   "execution_count": 131,
   "metadata": {},
   "outputs": [
    {
     "data": {
      "text/html": [
       "<div>\n",
       "<style scoped>\n",
       "    .dataframe tbody tr th:only-of-type {\n",
       "        vertical-align: middle;\n",
       "    }\n",
       "\n",
       "    .dataframe tbody tr th {\n",
       "        vertical-align: top;\n",
       "    }\n",
       "\n",
       "    .dataframe thead th {\n",
       "        text-align: right;\n",
       "    }\n",
       "</style>\n",
       "<table border=\"1\" class=\"dataframe\">\n",
       "  <thead>\n",
       "    <tr style=\"text-align: right;\">\n",
       "      <th></th>\n",
       "      <th>device_id_hash</th>\n",
       "      <th>exp_id</th>\n",
       "    </tr>\n",
       "  </thead>\n",
       "  <tbody>\n",
       "  </tbody>\n",
       "</table>\n",
       "</div>"
      ],
      "text/plain": [
       "Empty DataFrame\n",
       "Columns: [device_id_hash, exp_id]\n",
       "Index: []"
      ]
     },
     "execution_count": 131,
     "metadata": {},
     "output_type": "execute_result"
    }
   ],
   "source": [
    "df.groupby('device_id_hash')['exp_id'].nunique().reset_index().query('exp_id > 1')"
   ]
  },
  {
   "cell_type": "markdown",
   "metadata": {},
   "source": [
    "Идентификаторов пользователей, участвующих в нескольких группах не обнаружено"
   ]
  },
  {
   "cell_type": "markdown",
   "metadata": {},
   "source": [
    "<div class=\"alert alert-success\">\n",
    "<b>Комментарий с комплиментом ревьюера:</b>\n",
    "    \n",
    "Отличный анализ, молодец, что проверил пересечение пользователей, это важный момент.  👍\n",
    "</div>\n"
   ]
  },
  {
   "cell_type": "markdown",
   "metadata": {},
   "source": [
    "\n",
    "<div class=\"alert alert-warning\">\n",
    "<b>Комментарий с небольшим замечанием ревьюера:</b> \n",
    "    \n",
    "Ты провел отличную работу по обработке данных, добавь, пожалуйста, вывод в котором опишешь состояние данных, и какая работа была проведена.\n",
    " </div>\n",
    "\n"
   ]
  },
  {
   "cell_type": "markdown",
   "metadata": {},
   "source": [
    "<div class=\"alert alert-info\">По результатам анализа и предобработки данных можно сделать следующие выводы: датасет содержит информацию о 243713 событях. Выявлено 5 наименований события.\n",
    "<br>Названия столбцов были приведены к змеиному регистру, значения столбца event_timestamp были изменены на тип дата.\n",
    "<br>Была проведена проверка на пересечение групп. Пересечений не обнаружено. Можно приступать к изучению данных.</div>"
   ]
  },
  {
   "cell_type": "markdown",
   "metadata": {},
   "source": [
    "<div class=\"alert alert-success\">\n",
    "<b>Комментарий с комплиментом ревьюера в2:</b> \n",
    "    \n",
    "Отлично"
   ]
  },
  {
   "cell_type": "markdown",
   "metadata": {},
   "source": [
    "<h3>Изучим и проверим данные</h3>"
   ]
  },
  {
   "cell_type": "markdown",
   "metadata": {},
   "source": [
    "Узнаем сколько всего событий в логе"
   ]
  },
  {
   "cell_type": "code",
   "execution_count": 132,
   "metadata": {},
   "outputs": [
    {
     "name": "stdout",
     "output_type": "stream",
     "text": [
      "Всего в логе 243713 событий.\n"
     ]
    }
   ],
   "source": [
    "event_name = df['event_name'].count()\n",
    "print('Всего в логе', event_name, 'событий.')"
   ]
  },
  {
   "cell_type": "markdown",
   "metadata": {},
   "source": [
    "Узнаем сколько всего пользователей в логе"
   ]
  },
  {
   "cell_type": "code",
   "execution_count": 133,
   "metadata": {},
   "outputs": [
    {
     "name": "stdout",
     "output_type": "stream",
     "text": [
      "Количество пользователей в логе: 7551\n"
     ]
    }
   ],
   "source": [
    "device_id_hash = df['device_id_hash'].nunique()\n",
    "print('Количество пользователей в логе:', device_id_hash)"
   ]
  },
  {
   "cell_type": "markdown",
   "metadata": {},
   "source": [
    "<div class=\"alert alert-info\">Узнаем сколько в среднем событий приходится на пользователя</div>"
   ]
  },
  {
   "cell_type": "code",
   "execution_count": 134,
   "metadata": {},
   "outputs": [
    {
     "data": {
      "text/plain": [
       "count    7551.000000\n",
       "mean       32.275593\n",
       "std        65.154219\n",
       "min         1.000000\n",
       "25%         9.000000\n",
       "50%        20.000000\n",
       "75%        37.000000\n",
       "max      2307.000000\n",
       "Name: event_count, dtype: float64"
      ]
     },
     "metadata": {},
     "output_type": "display_data"
    }
   ],
   "source": [
    "events_by_user = df.groupby('device_id_hash').agg(event_count = ('event_name', 'count')).reset_index()\n",
    "display(events_by_user['event_count'].describe())"
   ]
  },
  {
   "cell_type": "markdown",
   "metadata": {},
   "source": [
    "На пользователя в среднем приходится 32.275593 события"
   ]
  },
  {
   "cell_type": "markdown",
   "metadata": {},
   "source": [
    "\n",
    "<div class=\"alert alert-warning\">\n",
    "<b>Комментарий с советом или небольшим замечанием ревьюера:</b>\n",
    "\n",
    "Когда нас просят взглянуть на среднее значение, для начала важно определить, есть ли в данных выбросы. В случае присутствия выбросов лучше использовать медиану, чем среднее, поскольку выбросы на нее не влияют. Для того, чтобы определить есть ли в данных выбросы или нет, необходимо сгруппировать по пользователям, посчитать количество событие на пользователя и по этим данным построить график box plot и посмотреть распределение или использовать метод describe(). \n",
    " </div>\n"
   ]
  },
  {
   "cell_type": "markdown",
   "metadata": {},
   "source": [
    "Выясним данными за какой период мы располагаем"
   ]
  },
  {
   "cell_type": "code",
   "execution_count": 135,
   "metadata": {},
   "outputs": [
    {
     "name": "stdout",
     "output_type": "stream",
     "text": [
      "Период данных: с 2019-07-25 04:43:36 по 2019-08-07 21:15:17\n",
      "Размер периода : 13 days 16:31:41\n"
     ]
    }
   ],
   "source": [
    "print(f\"Период данных: с {df['event_timestamp'].min()} по {df['event_timestamp'].max()}\")\n",
    "print(f\"Размер периода : {df['event_timestamp'].max() - df['event_timestamp'].min()}\")"
   ]
  },
  {
   "cell_type": "markdown",
   "metadata": {},
   "source": [
    "Построим столбчатую диаграмму, которая отобразит количество событий в зависимости от времени в разрезе групп."
   ]
  },
  {
   "cell_type": "code",
   "execution_count": 136,
   "metadata": {},
   "outputs": [
    {
     "data": {
      "image/png": "[encoded data removed]",
      "text/plain": [
       "<Figure size 1800x720 with 1 Axes>"
      ]
     },
     "metadata": {
      "needs_background": "light"
     },
     "output_type": "display_data"
    }
   ],
   "source": [
    "df['event_timestamp'].hist(bins=100,  figsize=(25, 10))\n",
    "plt.title('Логи по дате')\n",
    "plt.ylabel('Количество логов')\n",
    "plt.xlabel('Дата')\n",
    "plt.show()"
   ]
  },
  {
   "cell_type": "markdown",
   "metadata": {},
   "source": [
    "Как видно из столбчатой диограммы, имеются полные данные начиная с 1 августа.\n",
    "Данные до 1 августа удалим."
   ]
  },
  {
   "cell_type": "code",
   "execution_count": 137,
   "metadata": {},
   "outputs": [
    {
     "data": {
      "text/html": [
       "<div>\n",
       "<style scoped>\n",
       "    .dataframe tbody tr th:only-of-type {\n",
       "        vertical-align: middle;\n",
       "    }\n",
       "\n",
       "    .dataframe tbody tr th {\n",
       "        vertical-align: top;\n",
       "    }\n",
       "\n",
       "    .dataframe thead th {\n",
       "        text-align: right;\n",
       "    }\n",
       "</style>\n",
       "<table border=\"1\" class=\"dataframe\">\n",
       "  <thead>\n",
       "    <tr style=\"text-align: right;\">\n",
       "      <th></th>\n",
       "      <th>event_name</th>\n",
       "      <th>device_id_hash</th>\n",
       "      <th>event_timestamp</th>\n",
       "      <th>exp_id</th>\n",
       "      <th>date</th>\n",
       "    </tr>\n",
       "  </thead>\n",
       "  <tbody>\n",
       "    <tr>\n",
       "      <th>0</th>\n",
       "      <td>Tutorial</td>\n",
       "      <td>3737462046622621720</td>\n",
       "      <td>2019-08-01 00:07:28</td>\n",
       "      <td>246</td>\n",
       "      <td>2019-08-01</td>\n",
       "    </tr>\n",
       "    <tr>\n",
       "      <th>1</th>\n",
       "      <td>MainScreenAppear</td>\n",
       "      <td>3737462046622621720</td>\n",
       "      <td>2019-08-01 00:08:00</td>\n",
       "      <td>246</td>\n",
       "      <td>2019-08-01</td>\n",
       "    </tr>\n",
       "    <tr>\n",
       "      <th>2</th>\n",
       "      <td>MainScreenAppear</td>\n",
       "      <td>3737462046622621720</td>\n",
       "      <td>2019-08-01 00:08:55</td>\n",
       "      <td>246</td>\n",
       "      <td>2019-08-01</td>\n",
       "    </tr>\n",
       "    <tr>\n",
       "      <th>3</th>\n",
       "      <td>OffersScreenAppear</td>\n",
       "      <td>3737462046622621720</td>\n",
       "      <td>2019-08-01 00:08:58</td>\n",
       "      <td>246</td>\n",
       "      <td>2019-08-01</td>\n",
       "    </tr>\n",
       "    <tr>\n",
       "      <th>4</th>\n",
       "      <td>MainScreenAppear</td>\n",
       "      <td>1433840883824088890</td>\n",
       "      <td>2019-08-01 00:08:59</td>\n",
       "      <td>247</td>\n",
       "      <td>2019-08-01</td>\n",
       "    </tr>\n",
       "    <tr>\n",
       "      <th>...</th>\n",
       "      <td>...</td>\n",
       "      <td>...</td>\n",
       "      <td>...</td>\n",
       "      <td>...</td>\n",
       "      <td>...</td>\n",
       "    </tr>\n",
       "    <tr>\n",
       "      <th>240882</th>\n",
       "      <td>MainScreenAppear</td>\n",
       "      <td>4599628364049201812</td>\n",
       "      <td>2019-08-07 21:12:25</td>\n",
       "      <td>247</td>\n",
       "      <td>2019-08-07</td>\n",
       "    </tr>\n",
       "    <tr>\n",
       "      <th>240883</th>\n",
       "      <td>MainScreenAppear</td>\n",
       "      <td>5849806612437486590</td>\n",
       "      <td>2019-08-07 21:13:59</td>\n",
       "      <td>246</td>\n",
       "      <td>2019-08-07</td>\n",
       "    </tr>\n",
       "    <tr>\n",
       "      <th>240884</th>\n",
       "      <td>MainScreenAppear</td>\n",
       "      <td>5746969938801999050</td>\n",
       "      <td>2019-08-07 21:14:43</td>\n",
       "      <td>246</td>\n",
       "      <td>2019-08-07</td>\n",
       "    </tr>\n",
       "    <tr>\n",
       "      <th>240885</th>\n",
       "      <td>MainScreenAppear</td>\n",
       "      <td>5746969938801999050</td>\n",
       "      <td>2019-08-07 21:14:58</td>\n",
       "      <td>246</td>\n",
       "      <td>2019-08-07</td>\n",
       "    </tr>\n",
       "    <tr>\n",
       "      <th>240886</th>\n",
       "      <td>OffersScreenAppear</td>\n",
       "      <td>5746969938801999050</td>\n",
       "      <td>2019-08-07 21:15:17</td>\n",
       "      <td>246</td>\n",
       "      <td>2019-08-07</td>\n",
       "    </tr>\n",
       "  </tbody>\n",
       "</table>\n",
       "<p>240887 rows × 5 columns</p>\n",
       "</div>"
      ],
      "text/plain": [
       "                event_name       device_id_hash     event_timestamp  exp_id  \\\n",
       "0                 Tutorial  3737462046622621720 2019-08-01 00:07:28     246   \n",
       "1         MainScreenAppear  3737462046622621720 2019-08-01 00:08:00     246   \n",
       "2         MainScreenAppear  3737462046622621720 2019-08-01 00:08:55     246   \n",
       "3       OffersScreenAppear  3737462046622621720 2019-08-01 00:08:58     246   \n",
       "4         MainScreenAppear  1433840883824088890 2019-08-01 00:08:59     247   \n",
       "...                    ...                  ...                 ...     ...   \n",
       "240882    MainScreenAppear  4599628364049201812 2019-08-07 21:12:25     247   \n",
       "240883    MainScreenAppear  5849806612437486590 2019-08-07 21:13:59     246   \n",
       "240884    MainScreenAppear  5746969938801999050 2019-08-07 21:14:43     246   \n",
       "240885    MainScreenAppear  5746969938801999050 2019-08-07 21:14:58     246   \n",
       "240886  OffersScreenAppear  5746969938801999050 2019-08-07 21:15:17     246   \n",
       "\n",
       "             date  \n",
       "0      2019-08-01  \n",
       "1      2019-08-01  \n",
       "2      2019-08-01  \n",
       "3      2019-08-01  \n",
       "4      2019-08-01  \n",
       "...           ...  \n",
       "240882 2019-08-07  \n",
       "240883 2019-08-07  \n",
       "240884 2019-08-07  \n",
       "240885 2019-08-07  \n",
       "240886 2019-08-07  \n",
       "\n",
       "[240887 rows x 5 columns]"
      ]
     },
     "execution_count": 137,
     "metadata": {},
     "output_type": "execute_result"
    }
   ],
   "source": [
    "df_new = df.loc[df['date'] > '2019-07-31'].reset_index(drop=True)\n",
    "df_new.sort_values(by='event_timestamp')"
   ]
  },
  {
   "cell_type": "markdown",
   "metadata": {},
   "source": [
    "<div class=\"alert alert-success\">\n",
    "<b>Комментарий с комплиментом ревьюера:</b>\n",
    "    \n",
    "Отлично, данные проанализированы корректно. </div>\n"
   ]
  },
  {
   "cell_type": "markdown",
   "metadata": {},
   "source": [
    "После того как были отброшены некоторые события и пользователи узнаем много ли событий потеряно."
   ]
  },
  {
   "cell_type": "code",
   "execution_count": 138,
   "metadata": {},
   "outputs": [
    {
     "name": "stdout",
     "output_type": "stream",
     "text": [
      "Количество потерянных собятий 2826\n",
      "Доля потерянных событий 1.2%\n"
     ]
    }
   ],
   "source": [
    "print(f\"Количество потерянных собятий {len(df) - len(df_new)}\")\n",
    "print(f\"Доля потерянных событий {(len(df) - len(df_new))/len(df):.1%}\")"
   ]
  },
  {
   "cell_type": "markdown",
   "metadata": {},
   "source": [
    "Теперь узнаем много ли пользователей потеряно."
   ]
  },
  {
   "cell_type": "code",
   "execution_count": 139,
   "metadata": {},
   "outputs": [
    {
     "name": "stdout",
     "output_type": "stream",
     "text": [
      "Количество потерянных пользователей 17\n",
      "Доля потерянных пользователей 0.2%\n"
     ]
    }
   ],
   "source": [
    "print(f\"Количество потерянных пользователей {df['device_id_hash'].nunique()-df_new['device_id_hash'].nunique()}\")\n",
    "print(f\"Доля потерянных пользователей {(df['device_id_hash'].nunique()-df_new['device_id_hash'].nunique())/df['device_id_hash'].nunique():.1%}\")"
   ]
  },
  {
   "cell_type": "markdown",
   "metadata": {},
   "source": [
    "<div class=\"alert alert-success\">\n",
    "<b>Комментарий с комплиментом ревьюера:</b> \n",
    "    \n",
    "Классно, что изучены и абсолютные значения и доли 👍\n",
    "</div>\n"
   ]
  },
  {
   "cell_type": "markdown",
   "metadata": {},
   "source": [
    "<div class=\"alert alert-info\">Убедимся что в каждой из трёх экспериментальных групп присутствуют события.</div>"
   ]
  },
  {
   "cell_type": "code",
   "execution_count": 140,
   "metadata": {},
   "outputs": [
    {
     "data": {
      "text/html": [
       "<div>\n",
       "<style scoped>\n",
       "    .dataframe tbody tr th:only-of-type {\n",
       "        vertical-align: middle;\n",
       "    }\n",
       "\n",
       "    .dataframe tbody tr th {\n",
       "        vertical-align: top;\n",
       "    }\n",
       "\n",
       "    .dataframe thead th {\n",
       "        text-align: right;\n",
       "    }\n",
       "</style>\n",
       "<table border=\"1\" class=\"dataframe\">\n",
       "  <thead>\n",
       "    <tr style=\"text-align: right;\">\n",
       "      <th></th>\n",
       "      <th>device_id_hash</th>\n",
       "    </tr>\n",
       "    <tr>\n",
       "      <th>exp_id</th>\n",
       "      <th></th>\n",
       "    </tr>\n",
       "  </thead>\n",
       "  <tbody>\n",
       "    <tr>\n",
       "      <th>246</th>\n",
       "      <td>79302</td>\n",
       "    </tr>\n",
       "    <tr>\n",
       "      <th>247</th>\n",
       "      <td>77022</td>\n",
       "    </tr>\n",
       "    <tr>\n",
       "      <th>248</th>\n",
       "      <td>84563</td>\n",
       "    </tr>\n",
       "  </tbody>\n",
       "</table>\n",
       "</div>"
      ],
      "text/plain": [
       "        device_id_hash\n",
       "exp_id                \n",
       "246              79302\n",
       "247              77022\n",
       "248              84563"
      ]
     },
     "execution_count": 140,
     "metadata": {},
     "output_type": "execute_result"
    }
   ],
   "source": [
    "df_new.pivot_table(index = 'exp_id', values = 'device_id_hash', aggfunc = 'count')"
   ]
  },
  {
   "cell_type": "markdown",
   "metadata": {},
   "source": [
    "\n",
    "<div class=\"alert alert-warning\">\n",
    "<b>Комментарий с небольшим замечанием ревьюера:</b> \n",
    "    \n",
    "Выше ты анализируешь количество событий, а не пользователей."
   ]
  },
  {
   "cell_type": "markdown",
   "metadata": {},
   "source": [
    "<div class=\"alert alert-success\">\n",
    "<b>Комментарий с комплиментом ревьюера в2:</b> \n",
    "    \n",
    "Отлично"
   ]
  },
  {
   "cell_type": "markdown",
   "metadata": {},
   "source": [
    "<h3>Изучим воронку событий</h3>"
   ]
  },
  {
   "cell_type": "markdown",
   "metadata": {},
   "source": [
    "Посмотрим какие события есть в логах, как часто они встречаются. Затем отсортируем события по частоте."
   ]
  },
  {
   "cell_type": "code",
   "execution_count": 141,
   "metadata": {},
   "outputs": [
    {
     "data": {
      "text/html": [
       "<div>\n",
       "<style scoped>\n",
       "    .dataframe tbody tr th:only-of-type {\n",
       "        vertical-align: middle;\n",
       "    }\n",
       "\n",
       "    .dataframe tbody tr th {\n",
       "        vertical-align: top;\n",
       "    }\n",
       "\n",
       "    .dataframe thead th {\n",
       "        text-align: right;\n",
       "    }\n",
       "</style>\n",
       "<table border=\"1\" class=\"dataframe\">\n",
       "  <thead>\n",
       "    <tr style=\"text-align: right;\">\n",
       "      <th></th>\n",
       "      <th>count</th>\n",
       "    </tr>\n",
       "    <tr>\n",
       "      <th>event_name</th>\n",
       "      <th></th>\n",
       "    </tr>\n",
       "  </thead>\n",
       "  <tbody>\n",
       "    <tr>\n",
       "      <th>MainScreenAppear</th>\n",
       "      <td>117328</td>\n",
       "    </tr>\n",
       "    <tr>\n",
       "      <th>OffersScreenAppear</th>\n",
       "      <td>46333</td>\n",
       "    </tr>\n",
       "    <tr>\n",
       "      <th>CartScreenAppear</th>\n",
       "      <td>42303</td>\n",
       "    </tr>\n",
       "    <tr>\n",
       "      <th>PaymentScreenSuccessful</th>\n",
       "      <td>33918</td>\n",
       "    </tr>\n",
       "    <tr>\n",
       "      <th>Tutorial</th>\n",
       "      <td>1005</td>\n",
       "    </tr>\n",
       "  </tbody>\n",
       "</table>\n",
       "</div>"
      ],
      "text/plain": [
       "                          count\n",
       "event_name                     \n",
       "MainScreenAppear         117328\n",
       "OffersScreenAppear        46333\n",
       "CartScreenAppear          42303\n",
       "PaymentScreenSuccessful   33918\n",
       "Tutorial                   1005"
      ]
     },
     "execution_count": 141,
     "metadata": {},
     "output_type": "execute_result"
    }
   ],
   "source": [
    "df_new.groupby('event_name').agg(count = ('device_id_hash', 'count')).sort_values(by = 'count', ascending=False)"
   ]
  },
  {
   "cell_type": "markdown",
   "metadata": {},
   "source": [
    "Посчитаем сколько пользователей совершали каждое из этих событий. Затем отсортируем события по числу пользователей."
   ]
  },
  {
   "cell_type": "code",
   "execution_count": 142,
   "metadata": {},
   "outputs": [],
   "source": [
    "device_id_hash_event = df_new.groupby('event_name').agg(users=('device_id_hash','nunique')).sort_values('users', ascending=False)"
   ]
  },
  {
   "cell_type": "code",
   "execution_count": 143,
   "metadata": {},
   "outputs": [
    {
     "data": {
      "text/html": [
       "<div>\n",
       "<style scoped>\n",
       "    .dataframe tbody tr th:only-of-type {\n",
       "        vertical-align: middle;\n",
       "    }\n",
       "\n",
       "    .dataframe tbody tr th {\n",
       "        vertical-align: top;\n",
       "    }\n",
       "\n",
       "    .dataframe thead th {\n",
       "        text-align: right;\n",
       "    }\n",
       "</style>\n",
       "<table border=\"1\" class=\"dataframe\">\n",
       "  <thead>\n",
       "    <tr style=\"text-align: right;\">\n",
       "      <th></th>\n",
       "      <th>users</th>\n",
       "    </tr>\n",
       "    <tr>\n",
       "      <th>event_name</th>\n",
       "      <th></th>\n",
       "    </tr>\n",
       "  </thead>\n",
       "  <tbody>\n",
       "    <tr>\n",
       "      <th>MainScreenAppear</th>\n",
       "      <td>7419</td>\n",
       "    </tr>\n",
       "    <tr>\n",
       "      <th>OffersScreenAppear</th>\n",
       "      <td>4593</td>\n",
       "    </tr>\n",
       "    <tr>\n",
       "      <th>CartScreenAppear</th>\n",
       "      <td>3734</td>\n",
       "    </tr>\n",
       "    <tr>\n",
       "      <th>PaymentScreenSuccessful</th>\n",
       "      <td>3539</td>\n",
       "    </tr>\n",
       "    <tr>\n",
       "      <th>Tutorial</th>\n",
       "      <td>840</td>\n",
       "    </tr>\n",
       "  </tbody>\n",
       "</table>\n",
       "</div>"
      ],
      "text/plain": [
       "                         users\n",
       "event_name                    \n",
       "MainScreenAppear          7419\n",
       "OffersScreenAppear        4593\n",
       "CartScreenAppear          3734\n",
       "PaymentScreenSuccessful   3539\n",
       "Tutorial                   840"
      ]
     },
     "execution_count": 143,
     "metadata": {},
     "output_type": "execute_result"
    }
   ],
   "source": [
    "device_id_hash_event"
   ]
  },
  {
   "cell_type": "markdown",
   "metadata": {},
   "source": [
    "Посчитаем долю пользователей, которые хоть раз совершали событие."
   ]
  },
  {
   "cell_type": "code",
   "execution_count": 144,
   "metadata": {},
   "outputs": [],
   "source": [
    "device_id_hash_event['ratio'] = round(device_id_hash_event['users']/df_new['device_id_hash'].nunique() * 100, 2)"
   ]
  },
  {
   "cell_type": "code",
   "execution_count": 145,
   "metadata": {},
   "outputs": [
    {
     "data": {
      "text/html": [
       "<div>\n",
       "<style scoped>\n",
       "    .dataframe tbody tr th:only-of-type {\n",
       "        vertical-align: middle;\n",
       "    }\n",
       "\n",
       "    .dataframe tbody tr th {\n",
       "        vertical-align: top;\n",
       "    }\n",
       "\n",
       "    .dataframe thead th {\n",
       "        text-align: right;\n",
       "    }\n",
       "</style>\n",
       "<table border=\"1\" class=\"dataframe\">\n",
       "  <thead>\n",
       "    <tr style=\"text-align: right;\">\n",
       "      <th></th>\n",
       "      <th>users</th>\n",
       "      <th>ratio</th>\n",
       "    </tr>\n",
       "    <tr>\n",
       "      <th>event_name</th>\n",
       "      <th></th>\n",
       "      <th></th>\n",
       "    </tr>\n",
       "  </thead>\n",
       "  <tbody>\n",
       "    <tr>\n",
       "      <th>MainScreenAppear</th>\n",
       "      <td>7419</td>\n",
       "      <td>98.47</td>\n",
       "    </tr>\n",
       "    <tr>\n",
       "      <th>OffersScreenAppear</th>\n",
       "      <td>4593</td>\n",
       "      <td>60.96</td>\n",
       "    </tr>\n",
       "    <tr>\n",
       "      <th>CartScreenAppear</th>\n",
       "      <td>3734</td>\n",
       "      <td>49.56</td>\n",
       "    </tr>\n",
       "    <tr>\n",
       "      <th>PaymentScreenSuccessful</th>\n",
       "      <td>3539</td>\n",
       "      <td>46.97</td>\n",
       "    </tr>\n",
       "    <tr>\n",
       "      <th>Tutorial</th>\n",
       "      <td>840</td>\n",
       "      <td>11.15</td>\n",
       "    </tr>\n",
       "  </tbody>\n",
       "</table>\n",
       "</div>"
      ],
      "text/plain": [
       "                         users  ratio\n",
       "event_name                           \n",
       "MainScreenAppear          7419  98.47\n",
       "OffersScreenAppear        4593  60.96\n",
       "CartScreenAppear          3734  49.56\n",
       "PaymentScreenSuccessful   3539  46.97\n",
       "Tutorial                   840  11.15"
      ]
     },
     "execution_count": 145,
     "metadata": {},
     "output_type": "execute_result"
    }
   ],
   "source": [
    "device_id_hash_event"
   ]
  },
  {
   "cell_type": "markdown",
   "metadata": {},
   "source": [
    "\n"
   ]
  },
  {
   "cell_type": "markdown",
   "metadata": {},
   "source": [
    "Предположим в каком порядке происходят события. Все ли они выстраиваются в последовательную цепочку? "
   ]
  },
  {
   "cell_type": "markdown",
   "metadata": {},
   "source": [
    "Можно сделать вывод что на главной странице были 7419 пользователей что составляет почти 98,5%. К каталогу предложений перешли 4593 пользователя что составляет почти 61%. Карточки товаров изучали 3734 пользователя что составляет почти 50%. Оплатили товар 3539 пользователей что составляет почти 47%. Обучающее видео просмотрели 840 пользователей что составляет около 11%.\n",
    "<br>Можно сделать вывод что первые четыре события выстраиваются в цепочку событий что нельзя сказать про пятое событие, которое резко проигрывает всем предыдущим. \n",
    "<br>Переход к обучающему видео можно исключить поскольку его просмотр не влияет на продажу продукта питания.\n",
    "<br>Тем самым последовательность действий можно сформировать таким образом:\n",
    "* MainScreenAppear\n",
    "* OffersScreenAppear\n",
    "* CartScreenAppear\n",
    "* PaymentScreenSuccessful"
   ]
  },
  {
   "cell_type": "markdown",
   "metadata": {},
   "source": [
    "<div class=\"alert alert-success\">\n",
    "<b>Комментарий с комплиментом ревьюера:</b>\n",
    "    \n",
    "Доля пользователей, которые совершали каждое из этих событий посчитана правильно. \n",
    "\n",
    "Верно, что исключено событие Tutorial, его нельзя встроить в воронку. 👍\n",
    "</div>\n",
    "\n"
   ]
  },
  {
   "cell_type": "markdown",
   "metadata": {},
   "source": [
    "Посчитаем, какая доля пользователей проходит на следующий шаг воронки (от числа пользователей на предыдущем). То есть для последовательности событий A → B → C посчитаем отношение числа пользователей с событием B к количеству пользователей с событием A, а также отношение числа пользователей с событием C к количеству пользователей с событием B."
   ]
  },
  {
   "cell_type": "markdown",
   "metadata": {},
   "source": [
    "Создадим сводную таблицу по названию событий и количеству пользователей, находящихся хотя бы раз на данном событии."
   ]
  },
  {
   "cell_type": "code",
   "execution_count": 146,
   "metadata": {},
   "outputs": [
    {
     "data": {
      "text/html": [
       "<div>\n",
       "<style scoped>\n",
       "    .dataframe tbody tr th:only-of-type {\n",
       "        vertical-align: middle;\n",
       "    }\n",
       "\n",
       "    .dataframe tbody tr th {\n",
       "        vertical-align: top;\n",
       "    }\n",
       "\n",
       "    .dataframe thead th {\n",
       "        text-align: right;\n",
       "    }\n",
       "</style>\n",
       "<table border=\"1\" class=\"dataframe\">\n",
       "  <thead>\n",
       "    <tr style=\"text-align: right;\">\n",
       "      <th></th>\n",
       "      <th>device_id_hash</th>\n",
       "    </tr>\n",
       "    <tr>\n",
       "      <th>event_name</th>\n",
       "      <th></th>\n",
       "    </tr>\n",
       "  </thead>\n",
       "  <tbody>\n",
       "    <tr>\n",
       "      <th>MainScreenAppear</th>\n",
       "      <td>7439</td>\n",
       "    </tr>\n",
       "    <tr>\n",
       "      <th>OffersScreenAppear</th>\n",
       "      <td>4613</td>\n",
       "    </tr>\n",
       "    <tr>\n",
       "      <th>CartScreenAppear</th>\n",
       "      <td>3749</td>\n",
       "    </tr>\n",
       "    <tr>\n",
       "      <th>PaymentScreenSuccessful</th>\n",
       "      <td>3547</td>\n",
       "    </tr>\n",
       "  </tbody>\n",
       "</table>\n",
       "</div>"
      ],
      "text/plain": [
       "                         device_id_hash\n",
       "event_name                             \n",
       "MainScreenAppear                   7439\n",
       "OffersScreenAppear                 4613\n",
       "CartScreenAppear                   3749\n",
       "PaymentScreenSuccessful            3547"
      ]
     },
     "execution_count": 146,
     "metadata": {},
     "output_type": "execute_result"
    }
   ],
   "source": [
    "amount_users_to_events = df.query('event_name != \"Tutorial\"').pivot_table(index = 'event_name', values = 'device_id_hash', aggfunc = 'nunique').sort_values(by = 'device_id_hash', ascending = False)\n",
    "amount_users_to_events"
   ]
  },
  {
   "cell_type": "markdown",
   "metadata": {},
   "source": [
    "Создадим дополнительный столбец со значением конверсии на предыдущем шаге"
   ]
  },
  {
   "cell_type": "code",
   "execution_count": 147,
   "metadata": {},
   "outputs": [],
   "source": [
    "amount_users_to_events['shift'] = amount_users_to_events['device_id_hash'].shift(1, fill_value = amount_users_to_events['device_id_hash'].loc[amount_users_to_events.index[0]])"
   ]
  },
  {
   "cell_type": "markdown",
   "metadata": {},
   "source": [
    "Посчитаем отношение конверсии шага воронки продаж к конверсии предыдущего шага воронки продаж. Затем выведем отношение в процентном соотношении на экран."
   ]
  },
  {
   "cell_type": "code",
   "execution_count": 148,
   "metadata": {},
   "outputs": [],
   "source": [
    "amount_users_to_events['conversion'] = round(amount_users_to_events['device_id_hash']/amount_users_to_events['shift']*100, 1)"
   ]
  },
  {
   "cell_type": "code",
   "execution_count": 149,
   "metadata": {},
   "outputs": [],
   "source": [
    "amount_users_to_events = amount_users_to_events[['device_id_hash', 'conversion']]"
   ]
  },
  {
   "cell_type": "code",
   "execution_count": 150,
   "metadata": {},
   "outputs": [
    {
     "data": {
      "text/html": [
       "<div>\n",
       "<style scoped>\n",
       "    .dataframe tbody tr th:only-of-type {\n",
       "        vertical-align: middle;\n",
       "    }\n",
       "\n",
       "    .dataframe tbody tr th {\n",
       "        vertical-align: top;\n",
       "    }\n",
       "\n",
       "    .dataframe thead th {\n",
       "        text-align: right;\n",
       "    }\n",
       "</style>\n",
       "<table border=\"1\" class=\"dataframe\">\n",
       "  <thead>\n",
       "    <tr style=\"text-align: right;\">\n",
       "      <th></th>\n",
       "      <th>device_id_hash</th>\n",
       "      <th>conversion</th>\n",
       "    </tr>\n",
       "    <tr>\n",
       "      <th>event_name</th>\n",
       "      <th></th>\n",
       "      <th></th>\n",
       "    </tr>\n",
       "  </thead>\n",
       "  <tbody>\n",
       "    <tr>\n",
       "      <th>MainScreenAppear</th>\n",
       "      <td>7439</td>\n",
       "      <td>100.0</td>\n",
       "    </tr>\n",
       "    <tr>\n",
       "      <th>OffersScreenAppear</th>\n",
       "      <td>4613</td>\n",
       "      <td>62.0</td>\n",
       "    </tr>\n",
       "    <tr>\n",
       "      <th>CartScreenAppear</th>\n",
       "      <td>3749</td>\n",
       "      <td>81.3</td>\n",
       "    </tr>\n",
       "    <tr>\n",
       "      <th>PaymentScreenSuccessful</th>\n",
       "      <td>3547</td>\n",
       "      <td>94.6</td>\n",
       "    </tr>\n",
       "  </tbody>\n",
       "</table>\n",
       "</div>"
      ],
      "text/plain": [
       "                         device_id_hash  conversion\n",
       "event_name                                         \n",
       "MainScreenAppear                   7439       100.0\n",
       "OffersScreenAppear                 4613        62.0\n",
       "CartScreenAppear                   3749        81.3\n",
       "PaymentScreenSuccessful            3547        94.6"
      ]
     },
     "execution_count": 150,
     "metadata": {},
     "output_type": "execute_result"
    }
   ],
   "source": [
    "amount_users_to_events"
   ]
  },
  {
   "cell_type": "markdown",
   "metadata": {},
   "source": [
    "Можно сделать вывод что большинство пользователей теряется после первого этапа воронки."
   ]
  },
  {
   "cell_type": "markdown",
   "metadata": {},
   "source": [
    "<div class=\"alert alert-success\">\n",
    "<b>Комментарий с комплиментом ревьюера:</b>\n",
    "    \n",
    "Доля пользователей, которые проходят на следующий шаг воронки посчитана правильно.\n"
   ]
  },
  {
   "cell_type": "markdown",
   "metadata": {},
   "source": [
    "Теперь выясним какая доля пользователей доходит от первого события до оплаты."
   ]
  },
  {
   "cell_type": "markdown",
   "metadata": {},
   "source": [
    "<div class=\"alert alert-warning\">\n",
    "<b>Комментарий с советом ревьюера:</b>\n",
    "        \n",
    "Для наглядности здесь лучше всего построить график воронки, чтобы проследить какое количество пользователей отваливается на каждом этапе. \n",
    "\n",
    "Ссылка на изучение воронок plotly https://plotly.com/python/funnel-charts/. \n",
    "\n",
    "P.S. каждому графику нужен заголовок 😊\n",
    "</div>\n"
   ]
  },
  {
   "cell_type": "code",
   "execution_count": 151,
   "metadata": {},
   "outputs": [
    {
     "name": "stdout",
     "output_type": "stream",
     "text": [
      "Доля пользователей от первого события до оплаты составляет 47.7%\n"
     ]
    }
   ],
   "source": [
    "print(f\"Доля пользователей от первого события до оплаты составляет {amount_users_to_events['device_id_hash'].loc[amount_users_to_events.index[-1]]/amount_users_to_events['device_id_hash'].loc[amount_users_to_events.index[0]]:.1%}\")"
   ]
  },
  {
   "cell_type": "markdown",
   "metadata": {},
   "source": [
    "Мы видим, что наибольшее количество пользователей теряется после первого шага, а именно 38%. И только 47.7% от первоначального количества пользователей успешно оплачивают товары из корзины."
   ]
  },
  {
   "cell_type": "markdown",
   "metadata": {},
   "source": [
    "<div class=\"alert alert-success\">\n",
    "<b>Комментарий с комплиментом ревьюера:</b>\n",
    "    \n",
    "Доля пользователей от первого события до оплаты посчитана верно.\n",
    "\n",
    "Как ты думаешь, что нужно сделать, чтобы не было провала на шаге от MainScreenAppear к OffersScreenAppear ?\n",
    "</div>\n"
   ]
  },
  {
   "cell_type": "markdown",
   "metadata": {},
   "source": [
    "<h3>Изучим результаты эксперимента</h3>"
   ]
  },
  {
   "cell_type": "markdown",
   "metadata": {},
   "source": [
    "Посчитаем сколько пользователей в каждой экспериментальной группе"
   ]
  },
  {
   "cell_type": "code",
   "execution_count": 152,
   "metadata": {},
   "outputs": [
    {
     "data": {
      "text/html": [
       "<div>\n",
       "<style scoped>\n",
       "    .dataframe tbody tr th:only-of-type {\n",
       "        vertical-align: middle;\n",
       "    }\n",
       "\n",
       "    .dataframe tbody tr th {\n",
       "        vertical-align: top;\n",
       "    }\n",
       "\n",
       "    .dataframe thead th {\n",
       "        text-align: right;\n",
       "    }\n",
       "</style>\n",
       "<table border=\"1\" class=\"dataframe\">\n",
       "  <thead>\n",
       "    <tr style=\"text-align: right;\">\n",
       "      <th></th>\n",
       "      <th>exp_id</th>\n",
       "      <th>count</th>\n",
       "    </tr>\n",
       "  </thead>\n",
       "  <tbody>\n",
       "    <tr>\n",
       "      <th>0</th>\n",
       "      <td>246</td>\n",
       "      <td>2484</td>\n",
       "    </tr>\n",
       "    <tr>\n",
       "      <th>1</th>\n",
       "      <td>247</td>\n",
       "      <td>2513</td>\n",
       "    </tr>\n",
       "    <tr>\n",
       "      <th>2</th>\n",
       "      <td>248</td>\n",
       "      <td>2537</td>\n",
       "    </tr>\n",
       "  </tbody>\n",
       "</table>\n",
       "</div>"
      ],
      "text/plain": [
       "   exp_id  count\n",
       "0     246   2484\n",
       "1     247   2513\n",
       "2     248   2537"
      ]
     },
     "execution_count": 152,
     "metadata": {},
     "output_type": "execute_result"
    }
   ],
   "source": [
    "df_new2 = df_new.groupby('exp_id', as_index=False).agg(count=('device_id_hash', 'nunique'))\n",
    "df_new2"
   ]
  },
  {
   "cell_type": "markdown",
   "metadata": {},
   "source": [
    "Мы видим небольшую разницу в количестве пользователей в каждой экспериментальной группе"
   ]
  },
  {
   "cell_type": "markdown",
   "metadata": {},
   "source": [
    "Необходимо убедиться в корректности самой разбивки на группы. Проверим, находят ли статистические критерии разницу между выборками 246 и 247."
   ]
  },
  {
   "cell_type": "markdown",
   "metadata": {},
   "source": [
    "Еще раз найдём число пользователей в 246 и 247 группах"
   ]
  },
  {
   "cell_type": "code",
   "execution_count": 153,
   "metadata": {},
   "outputs": [],
   "source": [
    "group_246 = (df_new[df_new['exp_id'] == 246]['device_id_hash']).nunique()\n",
    "group_247 = (df_new[df_new['exp_id'] == 247]['device_id_hash']).nunique()"
   ]
  },
  {
   "cell_type": "markdown",
   "metadata": {},
   "source": [
    "Рассчитаем на сколько процентов отличается количество пользователей в группах"
   ]
  },
  {
   "cell_type": "code",
   "execution_count": 154,
   "metadata": {},
   "outputs": [
    {
     "name": "stdout",
     "output_type": "stream",
     "text": [
      "Количество пользователей в группах различается на 1.15 %\n"
     ]
    }
   ],
   "source": [
    "print('Количество пользователей в группах различается на', round(100 - (group_246 / group_247 * 100), 2), '%')"
   ]
  },
  {
   "cell_type": "markdown",
   "metadata": {},
   "source": [
    "Группы отличаются по количеству более, чем на 1%."
   ]
  },
  {
   "cell_type": "markdown",
   "metadata": {},
   "source": [
    "Выберим самое популярное событие."
   ]
  },
  {
   "cell_type": "code",
   "execution_count": 155,
   "metadata": {},
   "outputs": [],
   "source": [
    "df_test = df_new.pivot_table(index='event_name', columns='exp_id', values='device_id_hash',aggfunc='nunique').sort_values(by=246, ascending=False).reset_index()"
   ]
  },
  {
   "cell_type": "code",
   "execution_count": 156,
   "metadata": {},
   "outputs": [],
   "source": [
    "df_test.rename(columns={246 : 'A', 247 : 'A1', 248 : 'B'}, inplace=True)"
   ]
  },
  {
   "cell_type": "code",
   "execution_count": 157,
   "metadata": {},
   "outputs": [
    {
     "data": {
      "text/html": [
       "<div>\n",
       "<style scoped>\n",
       "    .dataframe tbody tr th:only-of-type {\n",
       "        vertical-align: middle;\n",
       "    }\n",
       "\n",
       "    .dataframe tbody tr th {\n",
       "        vertical-align: top;\n",
       "    }\n",
       "\n",
       "    .dataframe thead th {\n",
       "        text-align: right;\n",
       "    }\n",
       "</style>\n",
       "<table border=\"1\" class=\"dataframe\">\n",
       "  <thead>\n",
       "    <tr style=\"text-align: right;\">\n",
       "      <th>exp_id</th>\n",
       "      <th>event_name</th>\n",
       "      <th>A</th>\n",
       "      <th>A1</th>\n",
       "      <th>B</th>\n",
       "    </tr>\n",
       "  </thead>\n",
       "  <tbody>\n",
       "    <tr>\n",
       "      <th>0</th>\n",
       "      <td>MainScreenAppear</td>\n",
       "      <td>2450</td>\n",
       "      <td>2476</td>\n",
       "      <td>2493</td>\n",
       "    </tr>\n",
       "    <tr>\n",
       "      <th>1</th>\n",
       "      <td>OffersScreenAppear</td>\n",
       "      <td>1542</td>\n",
       "      <td>1520</td>\n",
       "      <td>1531</td>\n",
       "    </tr>\n",
       "    <tr>\n",
       "      <th>2</th>\n",
       "      <td>CartScreenAppear</td>\n",
       "      <td>1266</td>\n",
       "      <td>1238</td>\n",
       "      <td>1230</td>\n",
       "    </tr>\n",
       "    <tr>\n",
       "      <th>3</th>\n",
       "      <td>PaymentScreenSuccessful</td>\n",
       "      <td>1200</td>\n",
       "      <td>1158</td>\n",
       "      <td>1181</td>\n",
       "    </tr>\n",
       "    <tr>\n",
       "      <th>4</th>\n",
       "      <td>Tutorial</td>\n",
       "      <td>278</td>\n",
       "      <td>283</td>\n",
       "      <td>279</td>\n",
       "    </tr>\n",
       "  </tbody>\n",
       "</table>\n",
       "</div>"
      ],
      "text/plain": [
       "exp_id               event_name     A    A1     B\n",
       "0              MainScreenAppear  2450  2476  2493\n",
       "1            OffersScreenAppear  1542  1520  1531\n",
       "2              CartScreenAppear  1266  1238  1230\n",
       "3       PaymentScreenSuccessful  1200  1158  1181\n",
       "4                      Tutorial   278   283   279"
      ]
     },
     "execution_count": 157,
     "metadata": {},
     "output_type": "execute_result"
    }
   ],
   "source": [
    "df_test"
   ]
  },
  {
   "cell_type": "markdown",
   "metadata": {},
   "source": [
    "Видим что самое популярное событие во всех группах это переход на главную страницу. Теперь посчитаем число пользователей и долю пользователей, совершивших это событие в каждой из контрольных групп."
   ]
  },
  {
   "cell_type": "code",
   "execution_count": 158,
   "metadata": {},
   "outputs": [],
   "source": [
    "df_test['share_246'] = (df_test['A'] / df_new2.loc[0,'count'] * 100).round(1)\n",
    "df_test['share_247'] = (df_test['A1'] / df_new2.loc[1,'count'] * 100).round(1)\n",
    "df_test['share_248'] = (df_test['B'] / df_new2.loc[2,'count'] * 100).round(1)"
   ]
  },
  {
   "cell_type": "code",
   "execution_count": 159,
   "metadata": {},
   "outputs": [
    {
     "data": {
      "text/html": [
       "<div>\n",
       "<style scoped>\n",
       "    .dataframe tbody tr th:only-of-type {\n",
       "        vertical-align: middle;\n",
       "    }\n",
       "\n",
       "    .dataframe tbody tr th {\n",
       "        vertical-align: top;\n",
       "    }\n",
       "\n",
       "    .dataframe thead th {\n",
       "        text-align: right;\n",
       "    }\n",
       "</style>\n",
       "<table border=\"1\" class=\"dataframe\">\n",
       "  <thead>\n",
       "    <tr style=\"text-align: right;\">\n",
       "      <th>exp_id</th>\n",
       "      <th>event_name</th>\n",
       "      <th>A</th>\n",
       "      <th>A1</th>\n",
       "      <th>B</th>\n",
       "      <th>share_246</th>\n",
       "      <th>share_247</th>\n",
       "      <th>share_248</th>\n",
       "    </tr>\n",
       "  </thead>\n",
       "  <tbody>\n",
       "    <tr>\n",
       "      <th>0</th>\n",
       "      <td>MainScreenAppear</td>\n",
       "      <td>2450</td>\n",
       "      <td>2476</td>\n",
       "      <td>2493</td>\n",
       "      <td>98.6</td>\n",
       "      <td>98.5</td>\n",
       "      <td>98.3</td>\n",
       "    </tr>\n",
       "    <tr>\n",
       "      <th>1</th>\n",
       "      <td>OffersScreenAppear</td>\n",
       "      <td>1542</td>\n",
       "      <td>1520</td>\n",
       "      <td>1531</td>\n",
       "      <td>62.1</td>\n",
       "      <td>60.5</td>\n",
       "      <td>60.3</td>\n",
       "    </tr>\n",
       "    <tr>\n",
       "      <th>2</th>\n",
       "      <td>CartScreenAppear</td>\n",
       "      <td>1266</td>\n",
       "      <td>1238</td>\n",
       "      <td>1230</td>\n",
       "      <td>51.0</td>\n",
       "      <td>49.3</td>\n",
       "      <td>48.5</td>\n",
       "    </tr>\n",
       "    <tr>\n",
       "      <th>3</th>\n",
       "      <td>PaymentScreenSuccessful</td>\n",
       "      <td>1200</td>\n",
       "      <td>1158</td>\n",
       "      <td>1181</td>\n",
       "      <td>48.3</td>\n",
       "      <td>46.1</td>\n",
       "      <td>46.6</td>\n",
       "    </tr>\n",
       "    <tr>\n",
       "      <th>4</th>\n",
       "      <td>Tutorial</td>\n",
       "      <td>278</td>\n",
       "      <td>283</td>\n",
       "      <td>279</td>\n",
       "      <td>11.2</td>\n",
       "      <td>11.3</td>\n",
       "      <td>11.0</td>\n",
       "    </tr>\n",
       "  </tbody>\n",
       "</table>\n",
       "</div>"
      ],
      "text/plain": [
       "exp_id               event_name     A    A1     B  share_246  share_247  \\\n",
       "0              MainScreenAppear  2450  2476  2493       98.6       98.5   \n",
       "1            OffersScreenAppear  1542  1520  1531       62.1       60.5   \n",
       "2              CartScreenAppear  1266  1238  1230       51.0       49.3   \n",
       "3       PaymentScreenSuccessful  1200  1158  1181       48.3       46.1   \n",
       "4                      Tutorial   278   283   279       11.2       11.3   \n",
       "\n",
       "exp_id  share_248  \n",
       "0            98.3  \n",
       "1            60.3  \n",
       "2            48.5  \n",
       "3            46.6  \n",
       "4            11.0  "
      ]
     },
     "execution_count": 159,
     "metadata": {},
     "output_type": "execute_result"
    }
   ],
   "source": [
    "df_test"
   ]
  },
  {
   "cell_type": "markdown",
   "metadata": {},
   "source": [
    "\n",
    "<div class=\"alert alert-success\">\n",
    "<b>Комментарий с комплиментом ревьюера:</b>\n",
    "    \n",
    "Данные подготовлены верно.\n",
    "</div>\n"
   ]
  },
  {
   "cell_type": "markdown",
   "metadata": {},
   "source": [
    "Проверим будет ли отличие между группами статистически достоверным. Сформулируем гипотезы."
   ]
  },
  {
   "cell_type": "markdown",
   "metadata": {},
   "source": [
    "<b>H0:Между долями статистической значимой разницы нет, поведение групп не отличается;\n",
    "<b><br>H1:Между долями статистическая значимая разница есть, поведение групп отличается."
   ]
  },
  {
   "cell_type": "code",
   "execution_count": 160,
   "metadata": {},
   "outputs": [],
   "source": [
    "group_246 = df_new.query('exp_id == 246')\n",
    "group_247 = df_new.query('exp_id == 247')"
   ]
  },
  {
   "cell_type": "markdown",
   "metadata": {},
   "source": [
    "<div class=\"alert alert-info\"> <b> Опишем функцию проверки различия групп на статистическую достоверность с применением поправки Шидака</b></div>"
   ]
  },
  {
   "cell_type": "markdown",
   "metadata": {},
   "source": [
    "<div class=\"alert alert-success\">\n",
    "<b>Комментарий с комплиментом ревьюера в2:</b> \n",
    "    \n",
    "Отлично"
   ]
  },
  {
   "cell_type": "code",
   "execution_count": 161,
   "metadata": {},
   "outputs": [],
   "source": [
    "def test(g1, g2, event_name, alpha, m):\n",
    "\n",
    "#критический уровень статистической значимости с поправкой методом Шидака\n",
    "    sidak_alpha = 1-pow(1-alpha,1/m)\n",
    "    \n",
    "#количество уникальных пользователей совершивших событие в каждой группе \n",
    "    un_users_event = np.array([g1[g1['event_name'] == event_name]['device_id_hash'].nunique(), \n",
    "                           g2[g2['event_name'] == event_name]['device_id_hash'].nunique()])\n",
    "        \n",
    "#количество уникальных пользователей в группах\n",
    "    un_users_group = np.array([g1['device_id_hash'].nunique(), g2['device_id_hash'].nunique()])\n",
    "    \n",
    "# пропорция успехов в первой группе:\n",
    "    p1 = un_users_event[0]/un_users_group[0]\n",
    "# пропорция успехов во второй группе:\n",
    "    p2 = un_users_event[1]/un_users_group[1]\n",
    "    \n",
    "# пропорция успехов в комбинированном датасете:\n",
    "    p_combined = (un_users_event[0] + un_users_event[1]) / (un_users_group[0] + un_users_group[1])\n",
    "    \n",
    "# разница пропорций в датасетах\n",
    "    difference = p1 - p2\n",
    "    \n",
    "# считаем статистику в ст.отклонениях стандартного нормального распределения\n",
    "    z_value = difference / mth.sqrt(p_combined * (1 - p_combined) * (1/un_users_event[0] + 1/un_users_event[1]))\n",
    "    \n",
    "# задаем стандартное нормальное распределение (среднее 0, ст.отклонение 1)\n",
    "    distr = st.norm(0, 1)  \n",
    "    \n",
    "#Так как распределение статистики нормальное, вызовем метод cdf()\n",
    "#Саму статистику возьмём по модулю методом abs() — чтобы получить правильный результат независимо от её знака.\n",
    "#Это возможно, потому что тест двусторонний. По этой же причине удваиваем результат:\n",
    "    p_value = (1 - distr.cdf(abs(z_value))) * 2\n",
    "          \n",
    "    print('p-значение: ', p_value)\n",
    "\n",
    "    if p_value < sidak_alpha:\n",
    "        print('Нулевая гипотеза отвергается: разница между группами по событию', event_name, 'статистически достоверна')\n",
    "    else:\n",
    "        print('Нулевую гипотеза не отвергается, нет оснований считать разницу между группами по событию', event_name, 'статистически недостоверной')"
   ]
  },
  {
   "cell_type": "markdown",
   "metadata": {},
   "source": [
    "<div class=\"alert alert-success\">\n",
    "<b>Комментарий с комплиментом ревьюера:</b>\n",
    "    \n",
    "Гипотезы сформулированы верно, использован корректный критерий для проверки, молодец.\n",
    "</div>\n"
   ]
  },
  {
   "cell_type": "markdown",
   "metadata": {},
   "source": [
    "Создадим список с уникальными событиями"
   ]
  },
  {
   "cell_type": "code",
   "execution_count": 162,
   "metadata": {},
   "outputs": [],
   "source": [
    "event_name_array = df['event_name'].unique()"
   ]
  },
  {
   "cell_type": "markdown",
   "metadata": {},
   "source": [
    "<div class=\"alert alert-info\"> <b>Запустим проверку отличия между группами на статистическую достоверность по событиям. Всего у нас 4 вида событий, 4 A/A теста и 12 А/В, следовательно для всех тестов мы вводим поправку Шидака </b></div>"
   ]
  },
  {
   "cell_type": "code",
   "execution_count": 163,
   "metadata": {},
   "outputs": [
    {
     "name": "stdout",
     "output_type": "stream",
     "text": [
      "p-значение:  0.758737151572354\n",
      "Нулевую гипотеза не отвергается, нет оснований считать разницу между группами по событию MainScreenAppear статистически недостоверной\n",
      "p-значение:  0.2784401253423807\n",
      "Нулевую гипотеза не отвергается, нет оснований считать разницу между группами по событию PaymentScreenSuccessful статистически недостоверной\n",
      "p-значение:  0.39432110136773835\n",
      "Нулевую гипотеза не отвергается, нет оснований считать разницу между группами по событию CartScreenAppear статистически недостоверной\n",
      "p-значение:  0.36593695068605325\n",
      "Нулевую гипотеза не отвергается, нет оснований считать разницу между группами по событию OffersScreenAppear статистически недостоверной\n",
      "p-значение:  0.9791070433857165\n",
      "Нулевую гипотеза не отвергается, нет оснований считать разницу между группами по событию Tutorial статистически недостоверной\n"
     ]
    }
   ],
   "source": [
    "for event_name in event_name_array:\n",
    "    test(group_246, group_247, event_name,.05, 4)"
   ]
  },
  {
   "cell_type": "markdown",
   "metadata": {},
   "source": [
    "Аналогично поступим с группой с изменённым шрифтом. Сравним результаты с каждой из контрольных групп в отдельности по каждому событию."
   ]
  },
  {
   "cell_type": "markdown",
   "metadata": {},
   "source": [
    "Сделаем срез по группе тестирования мобильного приложения с изменённым шрифтом."
   ]
  },
  {
   "cell_type": "code",
   "execution_count": 164,
   "metadata": {},
   "outputs": [],
   "source": [
    "group_248 = df_new.query('exp_id == 248')"
   ]
  },
  {
   "cell_type": "markdown",
   "metadata": {},
   "source": [
    "Всего у нас 4 вида событий, 4 A/A теста и 12 А/В, следовательно для всех тестов мы вводим поправку Бонферрони"
   ]
  },
  {
   "cell_type": "markdown",
   "metadata": {},
   "source": [
    "Сравним контрольные группы 246 и 248"
   ]
  },
  {
   "cell_type": "code",
   "execution_count": 165,
   "metadata": {},
   "outputs": [
    {
     "name": "stdout",
     "output_type": "stream",
     "text": [
      "p-значение:  0.2987450335656847\n",
      "Нулевую гипотеза не отвергается, нет оснований считать разницу между группами по событию MainScreenAppear статистически недостоверной\n",
      "p-значение:  0.3903369220965023\n",
      "Нулевую гипотеза не отвергается, нет оснований считать разницу между группами по событию PaymentScreenSuccessful статистически недостоверной\n",
      "p-значение:  0.21469452387393084\n",
      "Нулевую гипотеза не отвергается, нет оснований считать разницу между группами по событию CartScreenAppear статистически недостоверной\n",
      "p-значение:  0.32498018019986397\n",
      "Нулевую гипотеза не отвергается, нет оснований считать разницу между группами по событию OffersScreenAppear статистически недостоверной\n",
      "p-значение:  0.941774193649735\n",
      "Нулевую гипотеза не отвергается, нет оснований считать разницу между группами по событию Tutorial статистически недостоверной\n"
     ]
    }
   ],
   "source": [
    "for event_name in event_name_array:\n",
    "    test(group_246, group_248, event_name,.05, 12)"
   ]
  },
  {
   "cell_type": "markdown",
   "metadata": {},
   "source": [
    "Делаем вывод что значимой разницы в поведении пользователей групп 246 и 248 не обнаружено."
   ]
  },
  {
   "cell_type": "markdown",
   "metadata": {},
   "source": [
    "Теперь сравним контрольные группы 247 и 248"
   ]
  },
  {
   "cell_type": "code",
   "execution_count": 166,
   "metadata": {},
   "outputs": [
    {
     "name": "stdout",
     "output_type": "stream",
     "text": [
      "p-значение:  0.4623286535354567\n",
      "Нулевую гипотеза не отвергается, нет оснований считать разницу между группами по событию MainScreenAppear статистически недостоверной\n",
      "p-значение:  0.8194623261229845\n",
      "Нулевую гипотеза не отвергается, нет оснований считать разницу между группами по событию PaymentScreenSuccessful статистически недостоверной\n",
      "p-значение:  0.6978142226496611\n",
      "Нулевую гипотеза не отвергается, нет оснований считать разницу между группами по событию CartScreenAppear статистически недостоверной\n",
      "p-значение:  0.9376062948315385\n",
      "Нулевую гипотеза не отвергается, нет оснований считать разницу между группами по событию OffersScreenAppear статистически недостоверной\n",
      "p-значение:  0.9206806646801962\n",
      "Нулевую гипотеза не отвергается, нет оснований считать разницу между группами по событию Tutorial статистически недостоверной\n"
     ]
    }
   ],
   "source": [
    "for event_name in event_name_array:\n",
    "    test(group_247, group_248, event_name,.05, 12)"
   ]
  },
  {
   "cell_type": "markdown",
   "metadata": {},
   "source": [
    "Делаем вывод что значимой разницы в поведении пользователей групп 247 и 248 не обнаружено."
   ]
  },
  {
   "cell_type": "markdown",
   "metadata": {},
   "source": [
    "Теперь сравним объединённую контрольную группу с группой тестирования мобильного приложения с измёнённым шрифтом"
   ]
  },
  {
   "cell_type": "code",
   "execution_count": 167,
   "metadata": {},
   "outputs": [
    {
     "name": "stdout",
     "output_type": "stream",
     "text": [
      "p-значение:  0.2982116211407275\n",
      "Нулевую гипотеза не отвергается, нет оснований считать разницу между группами по событию MainScreenAppear статистически недостоверной\n",
      "p-значение:  0.7202057779473505\n",
      "Нулевую гипотеза не отвергается, нет оснований считать разницу между группами по событию PaymentScreenSuccessful статистически недостоверной\n",
      "p-значение:  0.34982490083868933\n",
      "Нулевую гипотеза не отвергается, нет оснований считать разницу между группами по событию CartScreenAppear статистически недостоверной\n",
      "p-значение:  0.5425331263544062\n",
      "Нулевую гипотеза не отвергается, нет оснований считать разницу между группами по событию OffersScreenAppear статистически недостоверной\n",
      "p-значение:  0.9207162647272609\n",
      "Нулевую гипотеза не отвергается, нет оснований считать разницу между группами по событию Tutorial статистически недостоверной\n"
     ]
    }
   ],
   "source": [
    "for event_name in event_name_array:\n",
    "    test(pd.concat([group_246, group_247]), group_248, event_name,.05, 12)"
   ]
  },
  {
   "cell_type": "markdown",
   "metadata": {},
   "source": [
    "Делаем вывод что значимой разницы в поведении пользователей объединённой контрольной группы и группы 248 не обнаружено."
   ]
  },
  {
   "cell_type": "markdown",
   "metadata": {},
   "source": [
    "Делаем вывод что изменение шрифтов во всём мобильном приложении на поведение пользователей не повлияло."
   ]
  },
  {
   "cell_type": "markdown",
   "metadata": {},
   "source": [
    "\n",
    "<div class=\"alert alert-success\">\n",
    "<b>Комментарий с комплиментом ревьюера:</b>\n",
    "    \n",
    "Гипотезы проверены верно, молодец.\n",
    "</div>\n"
   ]
  },
  {
   "cell_type": "markdown",
   "metadata": {},
   "source": [
    "<div class=\"alert alert-danger\">\n",
    "<b>Комментарий с замечанием ревьюера:</b> \n",
    "\n",
    "\n",
    "Хочу обратить твое внимание, что в нашем случае, необходимо скорректировать уровень значимости для снижения вероятности ложнопозитивного результата при множественном тестировании гипотез, для этого следует использовать поправку уровня значимости. В теории приводится несколько видов поправок, примени, пожалуйста, одну из них, советую не применять поправку Бонферрони, поскольку в таком случае ты сильно уменьшишь мощность теста. Далее в статье про множественные поправки гипотез приводится формула по которой можно расчитать уровень значимости с учетом поправки методом Шидака. \n",
    "    \n",
    "https://ru.wikipedia.org/wiki/%D0%9F%D0%BE%D0%BF%D1%80%D0%B0%D0%B2%D0%BA%D0%B0_%D0%BD%D0%B0_%D0%BC%D0%BD%D0%BE%D0%B6%D0%B5%D1%81%D1%82%D0%B2%D0%B5%D0%BD%D0%BD%D1%83%D1%8E_%D0%BF%D1%80%D0%BE%D0%B2%D0%B5%D1%80%D0%BA%D1%83_%D0%B3%D0%B8%D0%BF%D0%BE%D1%82%D0%B5%D0%B7\n",
    "\n",
    "</div>\n"
   ]
  },
  {
   "cell_type": "markdown",
   "metadata": {},
   "source": [
    "<h2>Выводы</h2>"
   ]
  },
  {
   "cell_type": "markdown",
   "metadata": {},
   "source": [
    "Был взят критический уровень статистической значимости 0.05, что озачает что существует вероятность получить ошибку первого рода в одном из 20 случаев. \n",
    "<br>Было проведено 20 экспериментов. Если бы был взят уровень статистической значимости 0.1, вероятность увидеть ложноположительный результат была бы выше в 2 раза."
   ]
  },
  {
   "cell_type": "markdown",
   "metadata": {},
   "source": [
    "Стояла задача провести анализ влияния изменения шрифта в мобильном приложении на поведение пользователей."
   ]
  },
  {
   "cell_type": "markdown",
   "metadata": {},
   "source": [
    "Изначально в логе было 243713 событий и 7551 пользователей. Период данных был определён с 2019-07-25 по 2019-08-07. \n",
    "<br>Однако только начиная с 1 августа данные можно считать полными. В следствие этого часть данных за первую неделю была удалена. После удаления данные о пользователях присутствуют во всех трёх экспериментальных группах. В каждой примерно по 2500 пользователей."
   ]
  },
  {
   "cell_type": "markdown",
   "metadata": {},
   "source": [
    "Анализ воронки продаж показалчто из 7439 пользователей, переходящих на стартовую страницу, до оплаты дошли 3542, что составляет 47.7%. Можно признать это хорошим показателем, особенно если учесть, что 38% пользователей покидают мобильное приложение сразу после первого этапа."
   ]
  },
  {
   "cell_type": "markdown",
   "metadata": {},
   "source": [
    "Событие \"Tutorial\" не имеет влияние на заказы, оно исключено из отслеживания этого шага в дальнейшем."
   ]
  },
  {
   "cell_type": "markdown",
   "metadata": {},
   "source": [
    "Замечено что на шаге OffersScreenAppear (экран с товаром) теряется больше всего пользователей - 38%. Очевидно что отделу маркетинга/web-аналитикам необходимо принять меры чтобы уменьшить отток пользователей на данном шаге."
   ]
  },
  {
   "cell_type": "markdown",
   "metadata": {},
   "source": [
    "Статистически значимой разницы между группами во всех тестах по всем собятиям не выявлено. Можно сделать вывод что изменение шрифта не повлияло ни на один этап воронки продаж. Опасения менеджеров не подтвердились. Изменения шрифтов можно смело утвердить."
   ]
  },
  {
   "cell_type": "markdown",
   "metadata": {},
   "source": [
    "<div class=\"alert alert-success\">\n",
    "<b>Комментарий с комплиментом ревьюера:</b> \n",
    "    \n",
    "Хороший аналитический вывод, который можно предоставить менеджерам. Верно, изменение шрифтов никак не повлияло на поведение пользователей.\n",
    "\n",
    "</div>\n"
   ]
  },
  {
   "cell_type": "markdown",
   "metadata": {},
   "source": [
    "<div style=\"border:solid Chocolate 2px; padding: 40px\">\n",
    "\n",
    "# Общий вывод ревьюера по проекту\n",
    "\n",
    "<div class=\"alert alert-success\">\n",
    "\n",
    "Проделана хорошая аналитическая работа. Код написан чисто, соблюдена структура проекта и написаны качественные аналитические выводы. Проект выполнен на хорошем аналитическом уровне, поэтому замечаний не много. Я отметил в проекте моменты, на которые необходимо обратить внимание, исправь их и проект будет принят.\n",
    "\n",
    "- по ссылкам ниже ты найдешь интересные материалы по А/В тестам\n",
    "  \n",
    "    \n",
    "https://habr.com/ru/company/avito/blog/571094/\n",
    "\n",
    "https://habr.com/ru/company/yandex/blog/476826/\n",
    "\n",
    "https://academy.yandex.ru/journal/kak-provesti-a-b-testirovanie-6-prostykh-shagov\n",
    "\n",
    "https://habr.com/ru/company/yandex/blog/342704/\n",
    "\n",
    "https://r-analytics.blogspot.com/2013/10/blog-post_13.html \n",
    "\n",
    "</div>\n",
    "\n",
    "<div class=\"alert alert-danger\">\n",
    "\n",
    "\n",
    "- проанализируй и используй, пожалуйста, поправку на множественную проверку гипотез   \n",
    "\n",
    "</div>\n",
    "</div>\n",
    "\n",
    "\n",
    "\n",
    "\n"
   ]
  },
  {
   "cell_type": "code",
   "execution_count": null,
   "metadata": {},
   "outputs": [],
   "source": []
  }
 ],
 "metadata": {
  "ExecuteTimeLog": [
   {
    "duration": 112,
    "start_time": "2024-04-01T09:30:29.151Z"
   },
   {
    "duration": 61,
    "start_time": "2024-04-01T09:36:54.478Z"
   },
   {
    "duration": 62,
    "start_time": "2024-04-01T09:43:08.774Z"
   },
   {
    "duration": 1459,
    "start_time": "2024-04-01T09:50:32.087Z"
   },
   {
    "duration": 131,
    "start_time": "2024-04-01T10:25:48.852Z"
   },
   {
    "duration": 46,
    "start_time": "2024-04-01T10:26:20.826Z"
   },
   {
    "duration": 40,
    "start_time": "2024-04-01T10:26:46.225Z"
   },
   {
    "duration": 15,
    "start_time": "2024-04-01T10:29:12.823Z"
   },
   {
    "duration": 273,
    "start_time": "2024-04-01T10:29:43.268Z"
   },
   {
    "duration": 181,
    "start_time": "2024-04-01T10:29:49.791Z"
   },
   {
    "duration": 22,
    "start_time": "2024-04-01T10:45:00.953Z"
   },
   {
    "duration": 56,
    "start_time": "2024-04-01T10:51:34.287Z"
   },
   {
    "duration": 3,
    "start_time": "2024-04-01T10:54:04.567Z"
   },
   {
    "duration": 10,
    "start_time": "2024-04-01T10:55:11.829Z"
   },
   {
    "duration": 8,
    "start_time": "2024-04-01T10:55:27.072Z"
   },
   {
    "duration": 10,
    "start_time": "2024-04-01T10:56:06.077Z"
   },
   {
    "duration": 8,
    "start_time": "2024-04-01T10:56:14.549Z"
   },
   {
    "duration": 3,
    "start_time": "2024-04-01T11:00:07.023Z"
   },
   {
    "duration": 189,
    "start_time": "2024-04-01T11:00:08.016Z"
   },
   {
    "duration": 21,
    "start_time": "2024-04-01T11:00:10.324Z"
   },
   {
    "duration": 3,
    "start_time": "2024-04-01T11:00:12.185Z"
   },
   {
    "duration": 3,
    "start_time": "2024-04-01T11:00:13.102Z"
   },
   {
    "duration": 10,
    "start_time": "2024-04-01T11:00:22.212Z"
   },
   {
    "duration": 3,
    "start_time": "2024-04-01T11:01:27.079Z"
   },
   {
    "duration": 4,
    "start_time": "2024-04-01T11:01:29.152Z"
   },
   {
    "duration": 3,
    "start_time": "2024-04-01T11:01:29.953Z"
   },
   {
    "duration": 10,
    "start_time": "2024-04-01T11:01:31.076Z"
   },
   {
    "duration": 4,
    "start_time": "2024-04-01T11:01:36.721Z"
   },
   {
    "duration": 183,
    "start_time": "2024-04-01T11:01:38.292Z"
   },
   {
    "duration": 21,
    "start_time": "2024-04-01T11:01:40.614Z"
   },
   {
    "duration": 4,
    "start_time": "2024-04-01T11:01:42.558Z"
   },
   {
    "duration": 3,
    "start_time": "2024-04-01T11:01:45.819Z"
   },
   {
    "duration": 3,
    "start_time": "2024-04-01T11:01:46.490Z"
   },
   {
    "duration": 10,
    "start_time": "2024-04-01T11:01:47.277Z"
   },
   {
    "duration": 57,
    "start_time": "2024-04-01T11:05:48.781Z"
   },
   {
    "duration": 18,
    "start_time": "2024-04-01T11:06:08.419Z"
   },
   {
    "duration": 8,
    "start_time": "2024-04-01T11:16:39.216Z"
   },
   {
    "duration": 54,
    "start_time": "2024-04-01T11:16:43.619Z"
   },
   {
    "duration": 67,
    "start_time": "2024-04-01T11:18:49.979Z"
   },
   {
    "duration": 8,
    "start_time": "2024-04-01T11:20:36.625Z"
   },
   {
    "duration": 6,
    "start_time": "2024-04-01T11:20:46.513Z"
   },
   {
    "duration": 949,
    "start_time": "2024-04-01T11:28:46.194Z"
   },
   {
    "duration": 5,
    "start_time": "2024-04-01T11:28:53.399Z"
   },
   {
    "duration": 911,
    "start_time": "2024-04-01T11:28:54.903Z"
   },
   {
    "duration": 75,
    "start_time": "2024-04-01T11:29:06.679Z"
   },
   {
    "duration": 7,
    "start_time": "2024-04-01T11:29:07.617Z"
   },
   {
    "duration": 1051,
    "start_time": "2024-04-01T11:29:09.073Z"
   },
   {
    "duration": 4,
    "start_time": "2024-04-01T11:29:14.867Z"
   },
   {
    "duration": 188,
    "start_time": "2024-04-01T11:29:16.911Z"
   },
   {
    "duration": 22,
    "start_time": "2024-04-01T11:29:19.645Z"
   },
   {
    "duration": 18,
    "start_time": "2024-04-01T11:29:21.881Z"
   },
   {
    "duration": 57,
    "start_time": "2024-04-01T11:29:50.313Z"
   },
   {
    "duration": 68,
    "start_time": "2024-04-01T11:29:55.081Z"
   },
   {
    "duration": 6,
    "start_time": "2024-04-01T11:29:57.095Z"
   },
   {
    "duration": 866,
    "start_time": "2024-04-01T11:29:59.323Z"
   },
   {
    "duration": 5,
    "start_time": "2024-04-01T11:31:43.449Z"
   },
   {
    "duration": 10,
    "start_time": "2024-04-01T11:31:45.172Z"
   },
   {
    "duration": 15,
    "start_time": "2024-04-01T11:31:48.030Z"
   },
   {
    "duration": 106,
    "start_time": "2024-04-01T11:43:49.937Z"
   },
   {
    "duration": 14,
    "start_time": "2024-04-01T11:43:53.723Z"
   },
   {
    "duration": 64,
    "start_time": "2024-04-01T12:08:31.718Z"
   },
   {
    "duration": 46,
    "start_time": "2024-04-01T12:09:54.117Z"
   },
   {
    "duration": 41,
    "start_time": "2024-04-01T12:10:15.440Z"
   },
   {
    "duration": 64,
    "start_time": "2024-04-01T12:21:39.287Z"
   },
   {
    "duration": 16,
    "start_time": "2024-04-01T13:41:59.138Z"
   },
   {
    "duration": 13,
    "start_time": "2024-04-01T13:42:29.228Z"
   },
   {
    "duration": 871,
    "start_time": "2024-04-01T13:43:57.174Z"
   },
   {
    "duration": 8,
    "start_time": "2024-04-01T13:44:08.991Z"
   },
   {
    "duration": 14,
    "start_time": "2024-04-01T13:44:36.576Z"
   },
   {
    "duration": 7,
    "start_time": "2024-04-01T13:45:19.281Z"
   },
   {
    "duration": 22,
    "start_time": "2024-04-01T13:46:46.910Z"
   },
   {
    "duration": 20,
    "start_time": "2024-04-01T13:49:04.701Z"
   },
   {
    "duration": 3,
    "start_time": "2024-04-01T13:56:08.337Z"
   },
   {
    "duration": 952,
    "start_time": "2024-04-01T17:11:58.873Z"
   },
   {
    "duration": 7,
    "start_time": "2024-04-01T17:12:27.814Z"
   },
   {
    "duration": 433,
    "start_time": "2024-04-01T17:22:22.464Z"
   },
   {
    "duration": 388,
    "start_time": "2024-04-01T17:22:29.438Z"
   },
   {
    "duration": 326,
    "start_time": "2024-04-01T17:22:35.921Z"
   },
   {
    "duration": 445,
    "start_time": "2024-04-01T17:22:43.738Z"
   },
   {
    "duration": 349,
    "start_time": "2024-04-01T17:23:47.698Z"
   },
   {
    "duration": 361,
    "start_time": "2024-04-01T17:26:06.564Z"
   },
   {
    "duration": 24,
    "start_time": "2024-04-01T17:44:33.935Z"
   },
   {
    "duration": 46,
    "start_time": "2024-04-01T17:45:19.127Z"
   },
   {
    "duration": 4,
    "start_time": "2024-04-01T18:07:08.205Z"
   },
   {
    "duration": 3,
    "start_time": "2024-04-01T18:08:52.414Z"
   },
   {
    "duration": 57,
    "start_time": "2024-04-01T18:10:05.641Z"
   },
   {
    "duration": 14,
    "start_time": "2024-04-01T18:11:49.339Z"
   },
   {
    "duration": 9,
    "start_time": "2024-04-01T18:12:26.592Z"
   },
   {
    "duration": 20,
    "start_time": "2024-04-01T18:13:15.872Z"
   },
   {
    "duration": 18,
    "start_time": "2024-04-01T18:13:26.687Z"
   },
   {
    "duration": 12,
    "start_time": "2024-04-01T18:14:44.497Z"
   },
   {
    "duration": 16,
    "start_time": "2024-04-01T18:15:06.564Z"
   },
   {
    "duration": 17,
    "start_time": "2024-04-01T18:15:40.700Z"
   },
   {
    "duration": 3,
    "start_time": "2024-04-01T18:16:57.769Z"
   },
   {
    "duration": 26,
    "start_time": "2024-04-01T18:17:02.634Z"
   },
   {
    "duration": 14,
    "start_time": "2024-04-01T18:17:05.718Z"
   },
   {
    "duration": 61,
    "start_time": "2024-04-01T21:27:21.818Z"
   },
   {
    "duration": 49,
    "start_time": "2024-04-02T14:27:42.536Z"
   },
   {
    "duration": 1418,
    "start_time": "2024-04-02T14:27:50.565Z"
   },
   {
    "duration": 854,
    "start_time": "2024-04-02T14:27:52.642Z"
   },
   {
    "duration": 29,
    "start_time": "2024-04-02T14:27:58.281Z"
   },
   {
    "duration": 16,
    "start_time": "2024-04-02T14:28:01.508Z"
   },
   {
    "duration": 60,
    "start_time": "2024-04-02T14:28:04.671Z"
   },
   {
    "duration": 75,
    "start_time": "2024-04-02T14:28:09.811Z"
   },
   {
    "duration": 7,
    "start_time": "2024-04-02T14:28:11.773Z"
   },
   {
    "duration": 11,
    "start_time": "2024-04-02T14:28:14.773Z"
   },
   {
    "duration": 98,
    "start_time": "2024-04-02T14:28:16.831Z"
   },
   {
    "duration": 14,
    "start_time": "2024-04-02T14:28:17.981Z"
   },
   {
    "duration": 42,
    "start_time": "2024-04-02T14:28:20.278Z"
   },
   {
    "duration": 13,
    "start_time": "2024-04-02T14:28:24.833Z"
   },
   {
    "duration": 7,
    "start_time": "2024-04-02T14:28:26.903Z"
   },
   {
    "duration": 3,
    "start_time": "2024-04-02T14:28:29.063Z"
   },
   {
    "duration": 7,
    "start_time": "2024-04-02T14:28:31.176Z"
   },
   {
    "duration": 427,
    "start_time": "2024-04-02T14:28:33.342Z"
   },
   {
    "duration": 42,
    "start_time": "2024-04-02T14:28:38.138Z"
   },
   {
    "duration": 5,
    "start_time": "2024-04-02T14:28:40.305Z"
   },
   {
    "duration": 24,
    "start_time": "2024-04-02T14:28:42.576Z"
   },
   {
    "duration": 15,
    "start_time": "2024-04-02T14:28:45.284Z"
   },
   {
    "duration": 28,
    "start_time": "2024-04-02T14:28:48.183Z"
   },
   {
    "duration": 29,
    "start_time": "2024-04-02T14:29:07.851Z"
   },
   {
    "duration": 51,
    "start_time": "2024-04-02T14:38:04.370Z"
   },
   {
    "duration": 51,
    "start_time": "2024-04-02T14:38:08.349Z"
   },
   {
    "duration": 6,
    "start_time": "2024-04-02T14:38:13.417Z"
   },
   {
    "duration": 5,
    "start_time": "2024-04-02T14:39:30.976Z"
   },
   {
    "duration": 51,
    "start_time": "2024-04-02T14:41:14.241Z"
   },
   {
    "duration": 5,
    "start_time": "2024-04-02T14:41:16.387Z"
   },
   {
    "duration": 76,
    "start_time": "2024-04-02T15:14:43.929Z"
   },
   {
    "duration": 7,
    "start_time": "2024-04-02T15:14:55.987Z"
   },
   {
    "duration": 8,
    "start_time": "2024-04-02T15:15:00.486Z"
   },
   {
    "duration": 83,
    "start_time": "2024-04-02T17:28:58.165Z"
   },
   {
    "duration": 86,
    "start_time": "2024-04-02T17:29:30.596Z"
   },
   {
    "duration": 87,
    "start_time": "2024-04-02T17:29:51.964Z"
   },
   {
    "duration": 84,
    "start_time": "2024-04-02T17:33:21.255Z"
   },
   {
    "duration": 85,
    "start_time": "2024-04-02T17:33:28.050Z"
   },
   {
    "duration": 1252,
    "start_time": "2024-04-02T17:36:46.591Z"
   },
   {
    "duration": 4,
    "start_time": "2024-04-02T17:38:00.635Z"
   },
   {
    "duration": 6,
    "start_time": "2024-04-02T17:38:07.532Z"
   },
   {
    "duration": 4,
    "start_time": "2024-04-02T17:50:37.714Z"
   },
   {
    "duration": 1318,
    "start_time": "2024-04-02T17:53:17.904Z"
   },
   {
    "duration": 6,
    "start_time": "2024-04-02T17:53:19.719Z"
   },
   {
    "duration": 4,
    "start_time": "2024-04-02T17:53:31.456Z"
   },
   {
    "duration": 4,
    "start_time": "2024-04-02T17:56:30.310Z"
   },
   {
    "duration": 5,
    "start_time": "2024-04-02T17:56:32.338Z"
   },
   {
    "duration": 4,
    "start_time": "2024-04-02T17:57:20.512Z"
   },
   {
    "duration": 7,
    "start_time": "2024-04-02T17:57:22.693Z"
   },
   {
    "duration": 4,
    "start_time": "2024-04-02T17:57:38.850Z"
   },
   {
    "duration": 6,
    "start_time": "2024-04-02T17:57:43.570Z"
   },
   {
    "duration": 3,
    "start_time": "2024-04-02T17:58:31.013Z"
   },
   {
    "duration": 6,
    "start_time": "2024-04-02T17:58:32.863Z"
   },
   {
    "duration": 4,
    "start_time": "2024-04-02T17:59:47.222Z"
   },
   {
    "duration": 6,
    "start_time": "2024-04-02T17:59:49.312Z"
   },
   {
    "duration": 85,
    "start_time": "2024-04-02T18:00:29.741Z"
   },
   {
    "duration": 77,
    "start_time": "2024-04-02T18:00:36.313Z"
   },
   {
    "duration": 100,
    "start_time": "2024-04-02T18:00:39.661Z"
   },
   {
    "duration": 4,
    "start_time": "2024-04-02T18:00:46.023Z"
   },
   {
    "duration": 6,
    "start_time": "2024-04-02T18:00:47.849Z"
   },
   {
    "duration": 81,
    "start_time": "2024-04-02T18:04:01.044Z"
   },
   {
    "duration": 80,
    "start_time": "2024-04-02T18:04:06.443Z"
   },
   {
    "duration": 87,
    "start_time": "2024-04-02T18:04:18.801Z"
   },
   {
    "duration": 3,
    "start_time": "2024-04-02T18:04:27.932Z"
   },
   {
    "duration": 6,
    "start_time": "2024-04-02T18:04:29.905Z"
   },
   {
    "duration": 48,
    "start_time": "2024-04-03T17:43:50.442Z"
   },
   {
    "duration": 1412,
    "start_time": "2024-04-03T17:43:57.906Z"
   },
   {
    "duration": 297,
    "start_time": "2024-04-03T17:44:00.796Z"
   },
   {
    "duration": 22,
    "start_time": "2024-04-03T17:44:04.985Z"
   },
   {
    "duration": 16,
    "start_time": "2024-04-03T17:44:06.993Z"
   },
   {
    "duration": 63,
    "start_time": "2024-04-03T17:44:08.810Z"
   },
   {
    "duration": 77,
    "start_time": "2024-04-03T17:44:12.456Z"
   },
   {
    "duration": 6,
    "start_time": "2024-04-03T17:44:14.198Z"
   },
   {
    "duration": 12,
    "start_time": "2024-04-03T17:44:15.943Z"
   },
   {
    "duration": 107,
    "start_time": "2024-04-03T17:44:17.457Z"
   },
   {
    "duration": 13,
    "start_time": "2024-04-03T17:44:18.310Z"
   },
   {
    "duration": 42,
    "start_time": "2024-04-03T17:44:20.187Z"
   },
   {
    "duration": 12,
    "start_time": "2024-04-03T17:44:23.622Z"
   },
   {
    "duration": 6,
    "start_time": "2024-04-03T17:44:25.382Z"
   },
   {
    "duration": 3,
    "start_time": "2024-04-03T17:44:26.895Z"
   },
   {
    "duration": 8,
    "start_time": "2024-04-03T17:44:28.535Z"
   },
   {
    "duration": 426,
    "start_time": "2024-04-03T17:44:30.474Z"
   },
   {
    "duration": 44,
    "start_time": "2024-04-03T17:44:33.059Z"
   },
   {
    "duration": 3,
    "start_time": "2024-04-03T17:44:35.078Z"
   },
   {
    "duration": 30,
    "start_time": "2024-04-03T17:44:37.284Z"
   },
   {
    "duration": 15,
    "start_time": "2024-04-03T17:44:39.249Z"
   },
   {
    "duration": 36,
    "start_time": "2024-04-03T17:44:41.812Z"
   },
   {
    "duration": 61,
    "start_time": "2024-04-03T17:44:43.614Z"
   },
   {
    "duration": 6,
    "start_time": "2024-04-03T17:44:44.451Z"
   },
   {
    "duration": 7,
    "start_time": "2024-04-03T17:44:46.501Z"
   },
   {
    "duration": 10,
    "start_time": "2024-04-03T17:44:47.368Z"
   },
   {
    "duration": 81,
    "start_time": "2024-04-03T17:44:52.237Z"
   },
   {
    "duration": 4,
    "start_time": "2024-04-03T17:44:54.428Z"
   },
   {
    "duration": 6,
    "start_time": "2024-04-03T17:44:55.309Z"
   },
   {
    "duration": 935,
    "start_time": "2024-04-03T17:44:57.188Z"
   },
   {
    "duration": 4,
    "start_time": "2024-04-03T17:45:13.369Z"
   },
   {
    "duration": 7,
    "start_time": "2024-04-03T18:15:54.793Z"
   },
   {
    "duration": 4,
    "start_time": "2024-04-03T18:16:32.194Z"
   },
   {
    "duration": 4,
    "start_time": "2024-04-03T18:16:33.844Z"
   },
   {
    "duration": 7,
    "start_time": "2024-04-03T18:16:35.408Z"
   },
   {
    "duration": 4,
    "start_time": "2024-04-03T18:17:01.307Z"
   },
   {
    "duration": 6,
    "start_time": "2024-04-03T18:17:11.241Z"
   },
   {
    "duration": 9,
    "start_time": "2024-04-03T18:20:00.152Z"
   },
   {
    "duration": 4,
    "start_time": "2024-04-03T18:20:44.069Z"
   },
   {
    "duration": 3,
    "start_time": "2024-04-03T18:21:35.864Z"
   },
   {
    "duration": 4,
    "start_time": "2024-04-03T22:37:19.149Z"
   },
   {
    "duration": 17,
    "start_time": "2024-04-03T22:37:28.511Z"
   },
   {
    "duration": 11,
    "start_time": "2024-04-03T22:38:39.920Z"
   },
   {
    "duration": 11,
    "start_time": "2024-04-03T22:39:09.143Z"
   },
   {
    "duration": 40,
    "start_time": "2024-04-03T22:40:40.289Z"
   },
   {
    "duration": 57,
    "start_time": "2024-04-04T07:54:59.249Z"
   },
   {
    "duration": 6,
    "start_time": "2024-04-04T08:07:10.290Z"
   },
   {
    "duration": 41,
    "start_time": "2024-04-04T08:38:09.209Z"
   },
   {
    "duration": 1370,
    "start_time": "2024-04-04T08:38:44.958Z"
   },
   {
    "duration": 310,
    "start_time": "2024-04-04T08:38:47.767Z"
   },
   {
    "duration": 20,
    "start_time": "2024-04-04T08:38:52.649Z"
   },
   {
    "duration": 16,
    "start_time": "2024-04-04T08:38:55.953Z"
   },
   {
    "duration": 58,
    "start_time": "2024-04-04T08:38:58.442Z"
   },
   {
    "duration": 85,
    "start_time": "2024-04-04T08:39:04.572Z"
   },
   {
    "duration": 5,
    "start_time": "2024-04-04T08:39:06.823Z"
   },
   {
    "duration": 11,
    "start_time": "2024-04-04T08:39:09.301Z"
   },
   {
    "duration": 104,
    "start_time": "2024-04-04T08:39:11.392Z"
   },
   {
    "duration": 19,
    "start_time": "2024-04-04T08:39:12.536Z"
   },
   {
    "duration": 42,
    "start_time": "2024-04-04T08:39:15.285Z"
   },
   {
    "duration": 13,
    "start_time": "2024-04-04T08:39:21.748Z"
   },
   {
    "duration": 6,
    "start_time": "2024-04-04T08:39:25.118Z"
   },
   {
    "duration": 4,
    "start_time": "2024-04-04T08:39:26.855Z"
   },
   {
    "duration": 7,
    "start_time": "2024-04-04T08:39:29.349Z"
   },
   {
    "duration": 416,
    "start_time": "2024-04-04T08:39:31.612Z"
   },
   {
    "duration": 41,
    "start_time": "2024-04-04T08:39:35.252Z"
   },
   {
    "duration": 4,
    "start_time": "2024-04-04T08:39:37.172Z"
   },
   {
    "duration": 21,
    "start_time": "2024-04-04T08:39:42.034Z"
   },
   {
    "duration": 14,
    "start_time": "2024-04-04T08:39:45.120Z"
   },
   {
    "duration": 28,
    "start_time": "2024-04-04T08:39:50.645Z"
   },
   {
    "duration": 59,
    "start_time": "2024-04-04T08:39:52.647Z"
   },
   {
    "duration": 6,
    "start_time": "2024-04-04T08:39:53.543Z"
   },
   {
    "duration": 6,
    "start_time": "2024-04-04T08:39:55.918Z"
   },
   {
    "duration": 7,
    "start_time": "2024-04-04T08:39:56.729Z"
   },
   {
    "duration": 95,
    "start_time": "2024-04-04T08:40:04.197Z"
   },
   {
    "duration": 4,
    "start_time": "2024-04-04T08:40:06.536Z"
   },
   {
    "duration": 4,
    "start_time": "2024-04-04T08:40:08.770Z"
   },
   {
    "duration": 4,
    "start_time": "2024-04-04T08:40:09.694Z"
   },
   {
    "duration": 8,
    "start_time": "2024-04-04T08:40:10.947Z"
   },
   {
    "duration": 4,
    "start_time": "2024-04-04T08:40:13.975Z"
   },
   {
    "duration": 44,
    "start_time": "2024-04-04T08:40:18.198Z"
   },
   {
    "duration": 964,
    "start_time": "2024-04-04T08:40:22.224Z"
   },
   {
    "duration": 826,
    "start_time": "2024-04-04T08:40:50.886Z"
   },
   {
    "duration": 6,
    "start_time": "2024-04-04T08:41:06.133Z"
   },
   {
    "duration": 12,
    "start_time": "2024-04-04T08:41:30.354Z"
   },
   {
    "duration": 3,
    "start_time": "2024-04-04T08:58:46.135Z"
   },
   {
    "duration": 15,
    "start_time": "2024-04-04T09:02:57.971Z"
   },
   {
    "duration": 14,
    "start_time": "2024-04-04T09:03:08.212Z"
   },
   {
    "duration": 5,
    "start_time": "2024-04-04T09:03:19.343Z"
   },
   {
    "duration": 19,
    "start_time": "2024-04-04T09:03:49.933Z"
   },
   {
    "duration": 19,
    "start_time": "2024-04-04T09:04:42.870Z"
   },
   {
    "duration": 18,
    "start_time": "2024-04-04T09:05:01.060Z"
   },
   {
    "duration": 12,
    "start_time": "2024-04-04T09:05:35.654Z"
   },
   {
    "duration": 35,
    "start_time": "2024-04-04T09:05:49.768Z"
   },
   {
    "duration": 54,
    "start_time": "2024-04-04T09:06:01.539Z"
   },
   {
    "duration": 38,
    "start_time": "2024-04-04T09:09:42.032Z"
   },
   {
    "duration": 33,
    "start_time": "2024-04-04T09:10:00.687Z"
   },
   {
    "duration": 50,
    "start_time": "2024-04-04T09:18:57.526Z"
   },
   {
    "duration": 34,
    "start_time": "2024-04-04T09:19:04.283Z"
   },
   {
    "duration": 45,
    "start_time": "2024-04-04T09:19:09.851Z"
   },
   {
    "duration": 3,
    "start_time": "2024-04-04T09:19:14.704Z"
   },
   {
    "duration": 34,
    "start_time": "2024-04-04T09:19:39.671Z"
   },
   {
    "duration": 51,
    "start_time": "2024-04-04T09:19:45.421Z"
   },
   {
    "duration": 16,
    "start_time": "2024-04-04T09:19:52.304Z"
   },
   {
    "duration": 46,
    "start_time": "2024-04-04T09:20:10.011Z"
   },
   {
    "duration": 32,
    "start_time": "2024-04-04T09:20:12.203Z"
   },
   {
    "duration": 4,
    "start_time": "2024-04-04T09:22:09.669Z"
   },
   {
    "duration": 5,
    "start_time": "2024-04-04T09:22:25.370Z"
   },
   {
    "duration": 6,
    "start_time": "2024-04-04T09:24:52.962Z"
   },
   {
    "duration": 3,
    "start_time": "2024-04-04T09:25:13.825Z"
   },
   {
    "duration": 3,
    "start_time": "2024-04-04T09:25:19.155Z"
   },
   {
    "duration": 988,
    "start_time": "2024-04-04T09:26:05.367Z"
   },
   {
    "duration": 10,
    "start_time": "2024-04-04T09:26:56.453Z"
   },
   {
    "duration": 41,
    "start_time": "2024-04-04T09:27:17.329Z"
   },
   {
    "duration": 32,
    "start_time": "2024-04-04T09:27:56.121Z"
   },
   {
    "duration": 31,
    "start_time": "2024-04-04T09:28:02.814Z"
   },
   {
    "duration": 5,
    "start_time": "2024-04-04T09:28:15.430Z"
   },
   {
    "duration": 853,
    "start_time": "2024-04-04T09:28:54.579Z"
   },
   {
    "duration": 932,
    "start_time": "2024-04-04T09:29:05.179Z"
   },
   {
    "duration": 30,
    "start_time": "2024-04-04T09:29:16.094Z"
   },
   {
    "duration": 30,
    "start_time": "2024-04-04T09:29:18.310Z"
   },
   {
    "duration": 862,
    "start_time": "2024-04-04T09:29:22.845Z"
   },
   {
    "duration": 943,
    "start_time": "2024-04-04T09:29:53.469Z"
   },
   {
    "duration": 911,
    "start_time": "2024-04-04T09:30:29.391Z"
   },
   {
    "duration": 125,
    "start_time": "2024-04-04T09:32:42.923Z"
   },
   {
    "duration": 1483,
    "start_time": "2024-04-04T09:35:35.187Z"
   },
   {
    "duration": 969,
    "start_time": "2024-04-04T09:36:03.422Z"
   },
   {
    "duration": 33,
    "start_time": "2024-04-04T09:36:18.651Z"
   },
   {
    "duration": 902,
    "start_time": "2024-04-04T09:37:47.115Z"
   },
   {
    "duration": 832,
    "start_time": "2024-04-04T09:37:55.207Z"
   },
   {
    "duration": 867,
    "start_time": "2024-04-04T09:41:48.368Z"
   },
   {
    "duration": 5,
    "start_time": "2024-04-04T09:42:00.318Z"
   },
   {
    "duration": 12,
    "start_time": "2024-04-04T09:42:16.447Z"
   },
   {
    "duration": 9,
    "start_time": "2024-04-04T09:42:24.330Z"
   },
   {
    "duration": 3,
    "start_time": "2024-04-04T09:44:08.918Z"
   },
   {
    "duration": 3,
    "start_time": "2024-04-04T09:44:14.310Z"
   },
   {
    "duration": 1282,
    "start_time": "2024-04-04T09:46:57.431Z"
   },
   {
    "duration": 885,
    "start_time": "2024-04-04T09:47:10.147Z"
   },
   {
    "duration": 10,
    "start_time": "2024-04-04T09:47:23.120Z"
   },
   {
    "duration": 11,
    "start_time": "2024-04-04T09:47:30.028Z"
   },
   {
    "duration": 921,
    "start_time": "2024-04-04T09:58:04.714Z"
   },
   {
    "duration": 863,
    "start_time": "2024-04-04T09:59:38.471Z"
   },
   {
    "duration": 7,
    "start_time": "2024-04-04T10:04:45.533Z"
   },
   {
    "duration": 6,
    "start_time": "2024-04-04T10:04:51.255Z"
   },
   {
    "duration": 11,
    "start_time": "2024-04-04T10:14:24.383Z"
   },
   {
    "duration": 15,
    "start_time": "2024-04-04T10:15:04.568Z"
   },
   {
    "duration": 77,
    "start_time": "2024-04-04T10:15:21.260Z"
   },
   {
    "duration": 79,
    "start_time": "2024-04-04T10:15:32.592Z"
   },
   {
    "duration": 72,
    "start_time": "2024-04-04T10:15:37.007Z"
   },
   {
    "duration": 7,
    "start_time": "2024-04-04T10:15:41.087Z"
   },
   {
    "duration": 922,
    "start_time": "2024-04-04T10:21:22.082Z"
   },
   {
    "duration": 81,
    "start_time": "2024-04-04T10:21:53.268Z"
   },
   {
    "duration": 960,
    "start_time": "2024-04-04T10:22:24.501Z"
   },
   {
    "duration": 897,
    "start_time": "2024-04-04T10:22:32.710Z"
   },
   {
    "duration": 959,
    "start_time": "2024-04-04T10:23:43.155Z"
   },
   {
    "duration": 917,
    "start_time": "2024-04-04T10:23:56.417Z"
   },
   {
    "duration": 69,
    "start_time": "2024-04-04T10:24:24.931Z"
   },
   {
    "duration": 929,
    "start_time": "2024-04-04T10:24:33.774Z"
   },
   {
    "duration": 7,
    "start_time": "2024-04-04T10:24:37.312Z"
   },
   {
    "duration": 74,
    "start_time": "2024-04-04T10:24:40.794Z"
   },
   {
    "duration": 6,
    "start_time": "2024-04-04T10:24:42.273Z"
   },
   {
    "duration": 40,
    "start_time": "2024-04-04T10:28:49.348Z"
   },
   {
    "duration": 97,
    "start_time": "2024-04-04T10:28:51.131Z"
   },
   {
    "duration": 92,
    "start_time": "2024-04-04T10:29:03.909Z"
   },
   {
    "duration": 6,
    "start_time": "2024-04-04T10:29:06.720Z"
   },
   {
    "duration": 10,
    "start_time": "2024-04-04T10:29:21.943Z"
   },
   {
    "duration": 8,
    "start_time": "2024-04-04T10:29:40.747Z"
   },
   {
    "duration": 4,
    "start_time": "2024-04-04T10:32:14.166Z"
   },
   {
    "duration": 910,
    "start_time": "2024-04-04T10:33:09.014Z"
   },
   {
    "duration": 37,
    "start_time": "2024-04-04T10:33:27.250Z"
   },
   {
    "duration": 8,
    "start_time": "2024-04-04T10:33:28.279Z"
   },
   {
    "duration": 35,
    "start_time": "2024-04-04T10:33:32.514Z"
   },
   {
    "duration": 10,
    "start_time": "2024-04-04T10:33:34.673Z"
   },
   {
    "duration": 3,
    "start_time": "2024-04-04T10:33:41.017Z"
   },
   {
    "duration": 185,
    "start_time": "2024-04-04T10:33:43.623Z"
   },
   {
    "duration": 21,
    "start_time": "2024-04-04T10:33:47.683Z"
   },
   {
    "duration": 15,
    "start_time": "2024-04-04T10:33:51.100Z"
   },
   {
    "duration": 55,
    "start_time": "2024-04-04T10:33:53.077Z"
   },
   {
    "duration": 63,
    "start_time": "2024-04-04T10:33:57.368Z"
   },
   {
    "duration": 5,
    "start_time": "2024-04-04T10:33:59.175Z"
   },
   {
    "duration": 7,
    "start_time": "2024-04-04T10:34:01.057Z"
   },
   {
    "duration": 110,
    "start_time": "2024-04-04T10:34:02.592Z"
   },
   {
    "duration": 13,
    "start_time": "2024-04-04T10:34:03.583Z"
   },
   {
    "duration": 35,
    "start_time": "2024-04-04T10:34:05.965Z"
   },
   {
    "duration": 12,
    "start_time": "2024-04-04T10:34:10.083Z"
   },
   {
    "duration": 7,
    "start_time": "2024-04-04T10:34:12.362Z"
   },
   {
    "duration": 3,
    "start_time": "2024-04-04T10:34:14.800Z"
   },
   {
    "duration": 7,
    "start_time": "2024-04-04T10:34:16.616Z"
   },
   {
    "duration": 359,
    "start_time": "2024-04-04T10:34:18.602Z"
   },
   {
    "duration": 39,
    "start_time": "2024-04-04T10:34:21.198Z"
   },
   {
    "duration": 2,
    "start_time": "2024-04-04T10:34:23.200Z"
   },
   {
    "duration": 23,
    "start_time": "2024-04-04T10:34:25.040Z"
   },
   {
    "duration": 22,
    "start_time": "2024-04-04T10:34:26.838Z"
   },
   {
    "duration": 28,
    "start_time": "2024-04-04T10:34:29.695Z"
   },
   {
    "duration": 67,
    "start_time": "2024-04-04T10:34:31.408Z"
   },
   {
    "duration": 6,
    "start_time": "2024-04-04T10:34:32.219Z"
   },
   {
    "duration": 7,
    "start_time": "2024-04-04T10:34:33.903Z"
   },
   {
    "duration": 7,
    "start_time": "2024-04-04T10:34:34.713Z"
   },
   {
    "duration": 81,
    "start_time": "2024-04-04T10:34:39.750Z"
   },
   {
    "duration": 6,
    "start_time": "2024-04-04T10:34:41.749Z"
   },
   {
    "duration": 5,
    "start_time": "2024-04-04T10:34:43.489Z"
   },
   {
    "duration": 4,
    "start_time": "2024-04-04T10:34:44.355Z"
   },
   {
    "duration": 7,
    "start_time": "2024-04-04T10:34:45.228Z"
   },
   {
    "duration": 4,
    "start_time": "2024-04-04T10:34:48.236Z"
   },
   {
    "duration": 35,
    "start_time": "2024-04-04T10:34:52.480Z"
   },
   {
    "duration": 13,
    "start_time": "2024-04-04T10:34:56.818Z"
   },
   {
    "duration": 3,
    "start_time": "2024-04-04T10:34:58.803Z"
   },
   {
    "duration": 69,
    "start_time": "2024-04-04T10:35:02.368Z"
   },
   {
    "duration": 953,
    "start_time": "2024-04-04T10:35:03.632Z"
   },
   {
    "duration": 68,
    "start_time": "2024-04-04T10:35:18.599Z"
   },
   {
    "duration": 986,
    "start_time": "2024-04-04T10:35:21.680Z"
   },
   {
    "duration": 867,
    "start_time": "2024-04-04T10:36:05.802Z"
   },
   {
    "duration": 63,
    "start_time": "2024-04-04T10:36:06.883Z"
   },
   {
    "duration": 4,
    "start_time": "2024-04-04T10:36:35.092Z"
   },
   {
    "duration": 74,
    "start_time": "2024-04-04T10:36:37.336Z"
   },
   {
    "duration": 6,
    "start_time": "2024-04-04T10:36:46.636Z"
   },
   {
    "duration": 855,
    "start_time": "2024-04-04T10:37:14.221Z"
   },
   {
    "duration": 11,
    "start_time": "2024-04-04T10:38:20.684Z"
   },
   {
    "duration": 4,
    "start_time": "2024-04-04T10:38:29.720Z"
   },
   {
    "duration": 15,
    "start_time": "2024-04-04T10:38:32.541Z"
   },
   {
    "duration": 4,
    "start_time": "2024-04-04T10:39:35.215Z"
   },
   {
    "duration": 6,
    "start_time": "2024-04-04T10:39:37.592Z"
   },
   {
    "duration": 16,
    "start_time": "2024-04-04T10:40:00.140Z"
   },
   {
    "duration": 72,
    "start_time": "2024-04-04T10:40:11.970Z"
   },
   {
    "duration": 4,
    "start_time": "2024-04-04T10:40:13.242Z"
   },
   {
    "duration": 10,
    "start_time": "2024-04-04T10:40:14.496Z"
   },
   {
    "duration": 903,
    "start_time": "2024-04-04T10:41:18.596Z"
   },
   {
    "duration": 860,
    "start_time": "2024-04-04T10:42:22.657Z"
   },
   {
    "duration": 3,
    "start_time": "2024-04-04T10:42:49.919Z"
   },
   {
    "duration": 4,
    "start_time": "2024-04-04T10:43:01.748Z"
   },
   {
    "duration": 5,
    "start_time": "2024-04-04T10:43:37.825Z"
   },
   {
    "duration": 4,
    "start_time": "2024-04-04T10:43:50.115Z"
   },
   {
    "duration": 11,
    "start_time": "2024-04-04T10:43:59.528Z"
   },
   {
    "duration": 6,
    "start_time": "2024-04-04T10:44:30.642Z"
   },
   {
    "duration": 7,
    "start_time": "2024-04-04T10:44:32.376Z"
   },
   {
    "duration": 5,
    "start_time": "2024-04-04T10:45:19.095Z"
   },
   {
    "duration": 9,
    "start_time": "2024-04-04T10:45:20.929Z"
   },
   {
    "duration": 6,
    "start_time": "2024-04-04T10:45:42.538Z"
   },
   {
    "duration": 9,
    "start_time": "2024-04-04T10:45:44.101Z"
   },
   {
    "duration": 4,
    "start_time": "2024-04-04T10:47:08.011Z"
   },
   {
    "duration": 162,
    "start_time": "2024-04-04T10:47:11.369Z"
   },
   {
    "duration": 21,
    "start_time": "2024-04-04T10:47:16.950Z"
   },
   {
    "duration": 15,
    "start_time": "2024-04-04T10:47:19.171Z"
   },
   {
    "duration": 59,
    "start_time": "2024-04-04T10:47:21.039Z"
   },
   {
    "duration": 56,
    "start_time": "2024-04-04T10:47:25.049Z"
   },
   {
    "duration": 6,
    "start_time": "2024-04-04T10:47:26.833Z"
   },
   {
    "duration": 7,
    "start_time": "2024-04-04T10:47:28.849Z"
   },
   {
    "duration": 94,
    "start_time": "2024-04-04T10:47:30.501Z"
   },
   {
    "duration": 14,
    "start_time": "2024-04-04T10:47:31.471Z"
   },
   {
    "duration": 38,
    "start_time": "2024-04-04T10:47:33.346Z"
   },
   {
    "duration": 16,
    "start_time": "2024-04-04T10:47:37.236Z"
   },
   {
    "duration": 6,
    "start_time": "2024-04-04T10:47:39.255Z"
   },
   {
    "duration": 4,
    "start_time": "2024-04-04T10:47:41.179Z"
   },
   {
    "duration": 6,
    "start_time": "2024-04-04T10:47:42.959Z"
   },
   {
    "duration": 336,
    "start_time": "2024-04-04T10:47:44.903Z"
   },
   {
    "duration": 38,
    "start_time": "2024-04-04T10:47:48.100Z"
   },
   {
    "duration": 4,
    "start_time": "2024-04-04T10:47:49.863Z"
   },
   {
    "duration": 18,
    "start_time": "2024-04-04T10:47:51.466Z"
   },
   {
    "duration": 14,
    "start_time": "2024-04-04T10:47:53.054Z"
   },
   {
    "duration": 33,
    "start_time": "2024-04-04T10:47:55.498Z"
   },
   {
    "duration": 48,
    "start_time": "2024-04-04T10:47:57.354Z"
   },
   {
    "duration": 5,
    "start_time": "2024-04-04T10:47:58.312Z"
   },
   {
    "duration": 8,
    "start_time": "2024-04-04T10:48:00.006Z"
   },
   {
    "duration": 7,
    "start_time": "2024-04-04T10:48:00.795Z"
   },
   {
    "duration": 75,
    "start_time": "2024-04-04T10:48:05.503Z"
   },
   {
    "duration": 4,
    "start_time": "2024-04-04T10:48:07.849Z"
   },
   {
    "duration": 3,
    "start_time": "2024-04-04T10:48:09.475Z"
   },
   {
    "duration": 3,
    "start_time": "2024-04-04T10:48:10.250Z"
   },
   {
    "duration": 6,
    "start_time": "2024-04-04T10:48:11.106Z"
   },
   {
    "duration": 4,
    "start_time": "2024-04-04T10:48:13.430Z"
   },
   {
    "duration": 33,
    "start_time": "2024-04-04T10:48:17.020Z"
   },
   {
    "duration": 12,
    "start_time": "2024-04-04T10:48:20.335Z"
   },
   {
    "duration": 4,
    "start_time": "2024-04-04T10:48:22.207Z"
   },
   {
    "duration": 130,
    "start_time": "2024-04-04T10:48:24.864Z"
   },
   {
    "duration": 3,
    "start_time": "2024-04-04T10:48:25.638Z"
   },
   {
    "duration": 6,
    "start_time": "2024-04-04T10:48:26.888Z"
   },
   {
    "duration": 6,
    "start_time": "2024-04-04T10:48:29.466Z"
   },
   {
    "duration": 8,
    "start_time": "2024-04-04T10:48:30.678Z"
   },
   {
    "duration": 67,
    "start_time": "2024-04-04T10:49:49.783Z"
   },
   {
    "duration": 6,
    "start_time": "2024-04-04T10:49:56.118Z"
   },
   {
    "duration": 9,
    "start_time": "2024-04-04T10:49:57.799Z"
   },
   {
    "duration": 67,
    "start_time": "2024-04-04T10:50:13.355Z"
   },
   {
    "duration": 4,
    "start_time": "2024-04-04T10:50:14.140Z"
   },
   {
    "duration": 7,
    "start_time": "2024-04-04T10:50:14.697Z"
   },
   {
    "duration": 6,
    "start_time": "2024-04-04T10:50:16.692Z"
   },
   {
    "duration": 9,
    "start_time": "2024-04-04T10:50:17.373Z"
   },
   {
    "duration": 5,
    "start_time": "2024-04-04T10:52:36.095Z"
   },
   {
    "duration": 8,
    "start_time": "2024-04-04T10:52:37.929Z"
   },
   {
    "duration": 54,
    "start_time": "2024-04-04T11:18:47.979Z"
   },
   {
    "duration": 55,
    "start_time": "2024-04-04T11:19:11.990Z"
   },
   {
    "duration": 65,
    "start_time": "2024-04-04T13:22:57.137Z"
   },
   {
    "duration": 90,
    "start_time": "2024-04-04T13:23:05.659Z"
   },
   {
    "duration": 12,
    "start_time": "2024-04-04T13:23:38.801Z"
   },
   {
    "duration": 15,
    "start_time": "2024-04-04T13:25:29.855Z"
   },
   {
    "duration": 12,
    "start_time": "2024-04-04T13:26:37.697Z"
   },
   {
    "duration": 12,
    "start_time": "2024-04-04T13:27:29.348Z"
   },
   {
    "duration": 4,
    "start_time": "2024-04-04T13:27:45.231Z"
   },
   {
    "duration": 8,
    "start_time": "2024-04-04T13:29:39.138Z"
   },
   {
    "duration": 25,
    "start_time": "2024-04-04T13:30:26.572Z"
   },
   {
    "duration": 14,
    "start_time": "2024-04-04T13:30:52.861Z"
   },
   {
    "duration": 26,
    "start_time": "2024-04-04T13:30:55.545Z"
   },
   {
    "duration": 24,
    "start_time": "2024-04-04T13:33:01.910Z"
   },
   {
    "duration": 6,
    "start_time": "2024-04-04T13:41:02.914Z"
   },
   {
    "duration": 17,
    "start_time": "2024-04-04T13:41:36.445Z"
   },
   {
    "duration": 70,
    "start_time": "2024-04-04T13:43:16.220Z"
   },
   {
    "duration": 5,
    "start_time": "2024-04-04T13:44:41.910Z"
   },
   {
    "duration": 15,
    "start_time": "2024-04-04T13:44:45.277Z"
   },
   {
    "duration": 71,
    "start_time": "2024-04-04T13:44:46.863Z"
   },
   {
    "duration": 5,
    "start_time": "2024-04-04T13:45:51.818Z"
   },
   {
    "duration": 16,
    "start_time": "2024-04-04T13:45:53.796Z"
   },
   {
    "duration": 89,
    "start_time": "2024-04-04T13:45:55.366Z"
   },
   {
    "duration": 6,
    "start_time": "2024-04-04T13:46:04.244Z"
   },
   {
    "duration": 16,
    "start_time": "2024-04-04T13:46:05.866Z"
   },
   {
    "duration": 81,
    "start_time": "2024-04-04T13:46:07.409Z"
   },
   {
    "duration": 7,
    "start_time": "2024-04-04T13:46:41.500Z"
   },
   {
    "duration": 16,
    "start_time": "2024-04-04T13:46:43.596Z"
   },
   {
    "duration": 76,
    "start_time": "2024-04-04T13:46:45.215Z"
   },
   {
    "duration": 8,
    "start_time": "2024-04-04T14:17:45.057Z"
   },
   {
    "duration": 60,
    "start_time": "2024-04-04T14:18:56.670Z"
   },
   {
    "duration": 9,
    "start_time": "2024-04-04T14:19:02.383Z"
   },
   {
    "duration": 77,
    "start_time": "2024-04-04T14:19:03.938Z"
   },
   {
    "duration": 60,
    "start_time": "2024-04-04T14:20:12.579Z"
   },
   {
    "duration": 73,
    "start_time": "2024-04-04T14:26:57.558Z"
   },
   {
    "duration": 53,
    "start_time": "2024-04-04T14:29:31.211Z"
   },
   {
    "duration": 134,
    "start_time": "2024-04-04T14:29:46.304Z"
   },
   {
    "duration": 6,
    "start_time": "2024-04-04T14:30:35.132Z"
   },
   {
    "duration": 17,
    "start_time": "2024-04-04T14:30:37.951Z"
   },
   {
    "duration": 69,
    "start_time": "2024-04-04T14:30:39.656Z"
   },
   {
    "duration": 8,
    "start_time": "2024-04-04T14:30:42.046Z"
   },
   {
    "duration": 75,
    "start_time": "2024-04-04T14:30:43.445Z"
   },
   {
    "duration": 70,
    "start_time": "2024-04-04T14:30:45.783Z"
   },
   {
    "duration": 127,
    "start_time": "2024-04-04T14:30:48.263Z"
   },
   {
    "duration": 54,
    "start_time": "2024-04-04T15:20:27.033Z"
   },
   {
    "duration": 3,
    "start_time": "2024-04-04T15:40:56.239Z"
   },
   {
    "duration": 163,
    "start_time": "2024-04-04T15:41:00.082Z"
   },
   {
    "duration": 19,
    "start_time": "2024-04-04T15:41:15.890Z"
   },
   {
    "duration": 15,
    "start_time": "2024-04-04T15:41:18.852Z"
   },
   {
    "duration": 46,
    "start_time": "2024-04-04T15:41:21.986Z"
   },
   {
    "duration": 51,
    "start_time": "2024-04-04T15:41:26.595Z"
   },
   {
    "duration": 5,
    "start_time": "2024-04-04T15:41:28.984Z"
   },
   {
    "duration": 8,
    "start_time": "2024-04-04T15:41:35.137Z"
   },
   {
    "duration": 109,
    "start_time": "2024-04-04T15:41:36.981Z"
   },
   {
    "duration": 13,
    "start_time": "2024-04-04T15:41:38.284Z"
   },
   {
    "duration": 38,
    "start_time": "2024-04-04T15:41:42.337Z"
   },
   {
    "duration": 13,
    "start_time": "2024-04-04T15:41:46.196Z"
   },
   {
    "duration": 9,
    "start_time": "2024-04-04T15:41:48.387Z"
   },
   {
    "duration": 4,
    "start_time": "2024-04-04T15:41:52.722Z"
   },
   {
    "duration": 7,
    "start_time": "2024-04-04T15:41:55.020Z"
   },
   {
    "duration": 320,
    "start_time": "2024-04-04T15:42:00.473Z"
   },
   {
    "duration": 39,
    "start_time": "2024-04-04T15:42:03.047Z"
   },
   {
    "duration": 3,
    "start_time": "2024-04-04T15:42:11.300Z"
   },
   {
    "duration": 18,
    "start_time": "2024-04-04T15:42:12.927Z"
   },
   {
    "duration": 14,
    "start_time": "2024-04-04T15:42:18.097Z"
   },
   {
    "duration": 27,
    "start_time": "2024-04-04T15:42:20.655Z"
   },
   {
    "duration": 47,
    "start_time": "2024-04-04T15:42:23.569Z"
   },
   {
    "duration": 6,
    "start_time": "2024-04-04T15:42:24.431Z"
   },
   {
    "duration": 7,
    "start_time": "2024-04-04T15:42:28.838Z"
   },
   {
    "duration": 6,
    "start_time": "2024-04-04T15:42:29.726Z"
   },
   {
    "duration": 76,
    "start_time": "2024-04-04T15:42:43.354Z"
   },
   {
    "duration": 4,
    "start_time": "2024-04-04T15:42:45.040Z"
   },
   {
    "duration": 4,
    "start_time": "2024-04-04T15:42:46.704Z"
   },
   {
    "duration": 4,
    "start_time": "2024-04-04T15:42:47.458Z"
   },
   {
    "duration": 7,
    "start_time": "2024-04-04T15:42:48.256Z"
   },
   {
    "duration": 3,
    "start_time": "2024-04-04T15:42:50.452Z"
   },
   {
    "duration": 4,
    "start_time": "2024-04-04T15:42:55.755Z"
   },
   {
    "duration": 34,
    "start_time": "2024-04-04T15:43:03.956Z"
   },
   {
    "duration": 15,
    "start_time": "2024-04-04T15:43:07.645Z"
   },
   {
    "duration": 4,
    "start_time": "2024-04-04T15:43:09.341Z"
   },
   {
    "duration": 62,
    "start_time": "2024-04-04T15:43:11.732Z"
   },
   {
    "duration": 4,
    "start_time": "2024-04-04T15:43:12.397Z"
   },
   {
    "duration": 7,
    "start_time": "2024-04-04T15:43:13.147Z"
   },
   {
    "duration": 7,
    "start_time": "2024-04-04T15:43:14.785Z"
   },
   {
    "duration": 9,
    "start_time": "2024-04-04T15:43:15.490Z"
   },
   {
    "duration": 13,
    "start_time": "2024-04-04T15:43:18.083Z"
   },
   {
    "duration": 6,
    "start_time": "2024-04-04T15:43:19.859Z"
   },
   {
    "duration": 17,
    "start_time": "2024-04-04T15:43:21.724Z"
   },
   {
    "duration": 73,
    "start_time": "2024-04-04T15:43:23.400Z"
   },
   {
    "duration": 9,
    "start_time": "2024-04-04T15:43:26.381Z"
   },
   {
    "duration": 80,
    "start_time": "2024-04-04T15:43:28.180Z"
   },
   {
    "duration": 75,
    "start_time": "2024-04-04T15:43:31.523Z"
   },
   {
    "duration": 129,
    "start_time": "2024-04-04T15:43:33.853Z"
   },
   {
    "duration": 11,
    "start_time": "2024-04-06T10:32:36.952Z"
   },
   {
    "duration": 6,
    "start_time": "2024-04-06T10:34:24.686Z"
   },
   {
    "duration": 43,
    "start_time": "2024-04-06T10:42:00.503Z"
   },
   {
    "duration": 49,
    "start_time": "2024-04-06T10:42:18.339Z"
   },
   {
    "duration": 5,
    "start_time": "2024-04-06T10:42:23.971Z"
   },
   {
    "duration": 6,
    "start_time": "2024-04-06T10:42:39.884Z"
   },
   {
    "duration": 6,
    "start_time": "2024-04-06T10:42:43.030Z"
   },
   {
    "duration": 1389,
    "start_time": "2024-04-06T10:43:02.028Z"
   },
   {
    "duration": 291,
    "start_time": "2024-04-06T10:43:03.954Z"
   },
   {
    "duration": 30,
    "start_time": "2024-04-06T10:43:07.355Z"
   },
   {
    "duration": 16,
    "start_time": "2024-04-06T10:43:09.498Z"
   },
   {
    "duration": 59,
    "start_time": "2024-04-06T10:43:11.294Z"
   },
   {
    "duration": 76,
    "start_time": "2024-04-06T10:43:16.251Z"
   },
   {
    "duration": 6,
    "start_time": "2024-04-06T10:43:18.957Z"
   },
   {
    "duration": 13,
    "start_time": "2024-04-06T10:43:20.849Z"
   },
   {
    "duration": 102,
    "start_time": "2024-04-06T10:43:22.382Z"
   },
   {
    "duration": 14,
    "start_time": "2024-04-06T10:43:23.231Z"
   },
   {
    "duration": 43,
    "start_time": "2024-04-06T10:43:25.075Z"
   },
   {
    "duration": 13,
    "start_time": "2024-04-06T10:43:30.228Z"
   },
   {
    "duration": 8,
    "start_time": "2024-04-06T10:43:31.867Z"
   },
   {
    "duration": 3,
    "start_time": "2024-04-06T10:43:33.739Z"
   },
   {
    "duration": 6,
    "start_time": "2024-04-06T10:43:36.421Z"
   },
   {
    "duration": 425,
    "start_time": "2024-04-06T10:43:38.211Z"
   },
   {
    "duration": 43,
    "start_time": "2024-04-06T10:43:41.238Z"
   },
   {
    "duration": 4,
    "start_time": "2024-04-06T10:43:45.121Z"
   },
   {
    "duration": 21,
    "start_time": "2024-04-06T10:43:47.062Z"
   },
   {
    "duration": 15,
    "start_time": "2024-04-06T10:43:51.309Z"
   },
   {
    "duration": 29,
    "start_time": "2024-04-06T10:43:56.000Z"
   },
   {
    "duration": 53,
    "start_time": "2024-04-06T10:43:58.140Z"
   },
   {
    "duration": 6,
    "start_time": "2024-04-06T10:43:58.949Z"
   },
   {
    "duration": 7,
    "start_time": "2024-04-06T10:44:00.786Z"
   },
   {
    "duration": 7,
    "start_time": "2024-04-06T10:44:01.686Z"
   },
   {
    "duration": 79,
    "start_time": "2024-04-06T10:44:07.798Z"
   },
   {
    "duration": 4,
    "start_time": "2024-04-06T10:44:09.547Z"
   },
   {
    "duration": 4,
    "start_time": "2024-04-06T10:44:11.350Z"
   },
   {
    "duration": 4,
    "start_time": "2024-04-06T10:44:12.207Z"
   },
   {
    "duration": 7,
    "start_time": "2024-04-06T10:44:13.045Z"
   },
   {
    "duration": 4,
    "start_time": "2024-04-06T10:44:17.994Z"
   },
   {
    "duration": 42,
    "start_time": "2024-04-06T10:44:22.663Z"
   },
   {
    "duration": 13,
    "start_time": "2024-04-06T10:44:26.403Z"
   },
   {
    "duration": 4,
    "start_time": "2024-04-06T10:44:28.078Z"
   },
   {
    "duration": 77,
    "start_time": "2024-04-06T10:44:30.806Z"
   },
   {
    "duration": 3,
    "start_time": "2024-04-06T10:44:31.606Z"
   },
   {
    "duration": 7,
    "start_time": "2024-04-06T10:44:32.612Z"
   },
   {
    "duration": 7,
    "start_time": "2024-04-06T10:44:34.291Z"
   },
   {
    "duration": 9,
    "start_time": "2024-04-06T10:44:35.093Z"
   },
   {
    "duration": 13,
    "start_time": "2024-04-06T10:44:38.907Z"
   },
   {
    "duration": 6,
    "start_time": "2024-04-06T10:44:40.540Z"
   },
   {
    "duration": 18,
    "start_time": "2024-04-06T10:44:43.215Z"
   },
   {
    "duration": 80,
    "start_time": "2024-04-06T10:44:44.854Z"
   },
   {
    "duration": 11,
    "start_time": "2024-04-06T10:45:27.531Z"
   },
   {
    "duration": 79,
    "start_time": "2024-04-06T10:45:29.702Z"
   },
   {
    "duration": 80,
    "start_time": "2024-04-06T10:45:50.921Z"
   },
   {
    "duration": 82,
    "start_time": "2024-04-06T10:46:14.171Z"
   },
   {
    "duration": 175,
    "start_time": "2024-04-06T10:46:33.808Z"
   },
   {
    "duration": 55,
    "start_time": "2024-04-06T10:49:59.717Z"
   },
   {
    "duration": 189,
    "start_time": "2024-04-06T10:50:25.422Z"
   },
   {
    "duration": 145,
    "start_time": "2024-04-06T10:50:42.837Z"
   },
   {
    "duration": 128,
    "start_time": "2024-04-06T10:50:49.661Z"
   },
   {
    "duration": 3,
    "start_time": "2024-04-06T10:52:10.840Z"
   },
   {
    "duration": 184,
    "start_time": "2024-04-06T10:52:12.407Z"
   },
   {
    "duration": 20,
    "start_time": "2024-04-06T10:52:15.346Z"
   },
   {
    "duration": 16,
    "start_time": "2024-04-06T10:52:17.207Z"
   },
   {
    "duration": 57,
    "start_time": "2024-04-06T10:52:19.289Z"
   },
   {
    "duration": 58,
    "start_time": "2024-04-06T10:52:23.001Z"
   },
   {
    "duration": 54,
    "start_time": "2024-04-06T10:52:38.565Z"
   },
   {
    "duration": 66,
    "start_time": "2024-04-06T10:52:40.031Z"
   },
   {
    "duration": 5,
    "start_time": "2024-04-06T10:52:42.425Z"
   },
   {
    "duration": 7,
    "start_time": "2024-04-06T10:52:43.797Z"
   },
   {
    "duration": 108,
    "start_time": "2024-04-06T10:52:45.176Z"
   },
   {
    "duration": 13,
    "start_time": "2024-04-06T10:52:46.184Z"
   },
   {
    "duration": 43,
    "start_time": "2024-04-06T10:52:48.212Z"
   },
   {
    "duration": 14,
    "start_time": "2024-04-06T11:00:55.088Z"
   },
   {
    "duration": 7,
    "start_time": "2024-04-06T11:00:56.692Z"
   },
   {
    "duration": 4,
    "start_time": "2024-04-06T11:00:58.644Z"
   },
   {
    "duration": 13,
    "start_time": "2024-04-06T11:12:01.997Z"
   },
   {
    "duration": 668,
    "start_time": "2024-04-06T11:12:52.312Z"
   },
   {
    "duration": 185,
    "start_time": "2024-04-06T11:13:04.763Z"
   },
   {
    "duration": 182,
    "start_time": "2024-04-06T11:13:52.371Z"
   },
   {
    "duration": 194,
    "start_time": "2024-04-06T11:14:15.677Z"
   },
   {
    "duration": 119,
    "start_time": "2024-04-06T11:14:53.472Z"
   },
   {
    "duration": 185,
    "start_time": "2024-04-06T11:16:09.382Z"
   },
   {
    "duration": 125,
    "start_time": "2024-04-06T11:18:00.711Z"
   },
   {
    "duration": 249,
    "start_time": "2024-04-06T11:18:31.811Z"
   },
   {
    "duration": 421,
    "start_time": "2024-04-06T11:18:42.474Z"
   },
   {
    "duration": 29,
    "start_time": "2024-04-06T11:27:50.875Z"
   },
   {
    "duration": 844,
    "start_time": "2024-04-06T11:51:28.032Z"
   },
   {
    "duration": 3,
    "start_time": "2024-04-06T11:52:58.449Z"
   },
   {
    "duration": 173,
    "start_time": "2024-04-06T11:53:02.373Z"
   },
   {
    "duration": 19,
    "start_time": "2024-04-06T11:53:06.660Z"
   },
   {
    "duration": 23,
    "start_time": "2024-04-06T11:53:08.805Z"
   },
   {
    "duration": 46,
    "start_time": "2024-04-06T11:53:11.480Z"
   },
   {
    "duration": 45,
    "start_time": "2024-04-06T11:53:15.520Z"
   },
   {
    "duration": 50,
    "start_time": "2024-04-06T11:53:17.408Z"
   },
   {
    "duration": 6,
    "start_time": "2024-04-06T11:53:19.908Z"
   },
   {
    "duration": 7,
    "start_time": "2024-04-06T11:53:21.670Z"
   },
   {
    "duration": 107,
    "start_time": "2024-04-06T11:53:23.141Z"
   },
   {
    "duration": 14,
    "start_time": "2024-04-06T11:53:23.953Z"
   },
   {
    "duration": 52,
    "start_time": "2024-04-06T11:53:25.534Z"
   },
   {
    "duration": 13,
    "start_time": "2024-04-06T11:53:30.785Z"
   },
   {
    "duration": 7,
    "start_time": "2024-04-06T11:53:32.297Z"
   },
   {
    "duration": 28,
    "start_time": "2024-04-06T11:53:34.257Z"
   },
   {
    "duration": 7,
    "start_time": "2024-04-06T11:53:39.646Z"
   },
   {
    "duration": 335,
    "start_time": "2024-04-06T11:53:41.393Z"
   },
   {
    "duration": 39,
    "start_time": "2024-04-06T11:53:44.049Z"
   },
   {
    "duration": 3,
    "start_time": "2024-04-06T11:53:46.673Z"
   },
   {
    "duration": 19,
    "start_time": "2024-04-06T11:53:48.204Z"
   },
   {
    "duration": 17,
    "start_time": "2024-04-06T11:53:50.791Z"
   },
   {
    "duration": 31,
    "start_time": "2024-04-06T11:53:54.270Z"
   },
   {
    "duration": 55,
    "start_time": "2024-04-06T11:53:56.012Z"
   },
   {
    "duration": 6,
    "start_time": "2024-04-06T11:53:57.119Z"
   },
   {
    "duration": 8,
    "start_time": "2024-04-06T11:53:59.064Z"
   },
   {
    "duration": 7,
    "start_time": "2024-04-06T11:53:59.860Z"
   },
   {
    "duration": 78,
    "start_time": "2024-04-06T11:54:05.904Z"
   },
   {
    "duration": 4,
    "start_time": "2024-04-06T11:54:07.596Z"
   },
   {
    "duration": 4,
    "start_time": "2024-04-06T11:54:08.983Z"
   },
   {
    "duration": 3,
    "start_time": "2024-04-06T11:54:09.631Z"
   },
   {
    "duration": 7,
    "start_time": "2024-04-06T11:54:10.459Z"
   },
   {
    "duration": 850,
    "start_time": "2024-04-06T11:54:14.453Z"
   },
   {
    "duration": 3,
    "start_time": "2024-04-06T11:59:40.361Z"
   },
   {
    "duration": 187,
    "start_time": "2024-04-06T11:59:42.044Z"
   },
   {
    "duration": 30,
    "start_time": "2024-04-06T11:59:45.277Z"
   },
   {
    "duration": 16,
    "start_time": "2024-04-06T11:59:47.558Z"
   },
   {
    "duration": 45,
    "start_time": "2024-04-06T11:59:49.632Z"
   },
   {
    "duration": 45,
    "start_time": "2024-04-06T11:59:53.405Z"
   },
   {
    "duration": 51,
    "start_time": "2024-04-06T11:59:59.187Z"
   },
   {
    "duration": 6,
    "start_time": "2024-04-06T12:00:07.030Z"
   },
   {
    "duration": 9,
    "start_time": "2024-04-06T12:00:09.154Z"
   },
   {
    "duration": 150,
    "start_time": "2024-04-06T12:00:10.739Z"
   },
   {
    "duration": 15,
    "start_time": "2024-04-06T12:00:11.850Z"
   },
   {
    "duration": 41,
    "start_time": "2024-04-06T12:00:13.962Z"
   },
   {
    "duration": 13,
    "start_time": "2024-04-06T12:00:20.413Z"
   },
   {
    "duration": 9,
    "start_time": "2024-04-06T12:00:27.212Z"
   },
   {
    "duration": 28,
    "start_time": "2024-04-06T12:00:29.219Z"
   },
   {
    "duration": 7,
    "start_time": "2024-04-06T12:00:37.711Z"
   },
   {
    "duration": 343,
    "start_time": "2024-04-06T12:00:39.331Z"
   },
   {
    "duration": 46,
    "start_time": "2024-04-06T12:00:41.409Z"
   },
   {
    "duration": 4,
    "start_time": "2024-04-06T12:00:44.215Z"
   },
   {
    "duration": 18,
    "start_time": "2024-04-06T12:00:45.913Z"
   },
   {
    "duration": 13,
    "start_time": "2024-04-06T12:00:49.138Z"
   },
   {
    "duration": 29,
    "start_time": "2024-04-06T12:00:53.148Z"
   },
   {
    "duration": 51,
    "start_time": "2024-04-06T12:00:54.926Z"
   },
   {
    "duration": 7,
    "start_time": "2024-04-06T12:00:55.747Z"
   },
   {
    "duration": 10,
    "start_time": "2024-04-06T12:00:57.353Z"
   },
   {
    "duration": 8,
    "start_time": "2024-04-06T12:00:58.110Z"
   },
   {
    "duration": 90,
    "start_time": "2024-04-06T12:01:04.237Z"
   },
   {
    "duration": 4,
    "start_time": "2024-04-06T12:01:06.279Z"
   },
   {
    "duration": 5,
    "start_time": "2024-04-06T12:01:07.905Z"
   },
   {
    "duration": 4,
    "start_time": "2024-04-06T12:01:08.722Z"
   },
   {
    "duration": 7,
    "start_time": "2024-04-06T12:01:09.757Z"
   },
   {
    "duration": 4,
    "start_time": "2024-04-06T12:01:14.730Z"
   },
   {
    "duration": 35,
    "start_time": "2024-04-06T12:01:19.542Z"
   },
   {
    "duration": 15,
    "start_time": "2024-04-06T12:01:22.689Z"
   },
   {
    "duration": 4,
    "start_time": "2024-04-06T12:01:24.162Z"
   },
   {
    "duration": 63,
    "start_time": "2024-04-06T12:01:26.727Z"
   },
   {
    "duration": 4,
    "start_time": "2024-04-06T12:01:27.384Z"
   },
   {
    "duration": 8,
    "start_time": "2024-04-06T12:01:28.180Z"
   },
   {
    "duration": 7,
    "start_time": "2024-04-06T12:01:30.233Z"
   },
   {
    "duration": 10,
    "start_time": "2024-04-06T12:01:31.022Z"
   },
   {
    "duration": 14,
    "start_time": "2024-04-06T12:01:34.315Z"
   },
   {
    "duration": 6,
    "start_time": "2024-04-06T12:01:35.987Z"
   },
   {
    "duration": 28,
    "start_time": "2024-04-06T12:01:38.650Z"
   },
   {
    "duration": 120,
    "start_time": "2024-04-06T12:01:40.445Z"
   },
   {
    "duration": 9,
    "start_time": "2024-04-06T12:01:43.434Z"
   },
   {
    "duration": 86,
    "start_time": "2024-04-06T12:01:46.089Z"
   },
   {
    "duration": 81,
    "start_time": "2024-04-06T12:01:48.456Z"
   },
   {
    "duration": 141,
    "start_time": "2024-04-06T12:01:50.783Z"
   }
  ],
  "kernelspec": {
   "display_name": "Python 3 (ipykernel)",
   "language": "python",
   "name": "python3"
  },
  "language_info": {
   "codemirror_mode": {
    "name": "ipython",
    "version": 3
   },
   "file_extension": ".py",
   "mimetype": "text/x-python",
   "name": "python",
   "nbconvert_exporter": "python",
   "pygments_lexer": "ipython3",
   "version": "3.9.5"
  },
  "toc": {
   "base_numbering": 1,
   "nav_menu": {},
   "number_sections": true,
   "sideBar": true,
   "skip_h1_title": true,
   "title_cell": "Table of Contents",
   "title_sidebar": "Contents",
   "toc_cell": false,
   "toc_position": {},
   "toc_section_display": true,
   "toc_window_display": false
  }
 },
 "nbformat": 4,
 "nbformat_minor": 2
}
